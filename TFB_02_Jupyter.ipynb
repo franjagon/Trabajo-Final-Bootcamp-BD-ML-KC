{
 "cells": [
  {
   "cell_type": "markdown",
   "metadata": {},
   "source": [
    "# **&nbsp;TRABAJO FINAL DEL BOOTCAMP IV BIG DATA & MACHINE LEARNING**\n",
    "\n",
    "                                           Alumno  Francisco Javier Gonzálvez Chico\n",
    "                                           Título  Recomendador de Precios para Anfitriones de AirBNB España\n",
    "\n",
    "\n",
    "### &nbsp;&nbsp;&nbsp;&nbsp;&nbsp;&nbsp;&nbsp;&nbsp;&nbsp;&nbsp;&nbsp;&nbsp;&nbsp;**CUADERNO DE TRABAJO 02**\n",
    "### &nbsp;&nbsp;&nbsp;&nbsp;&nbsp;&nbsp;&nbsp;&nbsp;&nbsp;&nbsp;&nbsp;&nbsp;&nbsp;**Partición del Dataset y Analisis del Subset de Datos de Entrenamiento**\n",
    "\n",
    "En los notebooks se codificarán las celdas con las que se procesarán las acciones sobre el dataset de trabajo y las ejecuciones de los modelos.\n",
    "No se comentarán ya que toda la documentación del trabajo se presentará en un documento Word en el que irá incluido este notebook.\n",
    "\n",
    " "
   ]
  },
  {
   "cell_type": "code",
   "execution_count": 1,
   "metadata": {},
   "outputs": [],
   "source": [
    "import numpy as np\n",
    "import pandas as pd\n",
    "\n",
    "import matplotlib.pyplot as plt\n",
    "from matplotlib.colors import ListedColormap\n",
    "%matplotlib inline\n",
    "\n",
    "cm = plt.cm.RdBu\n",
    "cm_bright = ListedColormap(['#FF0000', '#0000FF'])\n",
    "\n",
    "import warnings\n",
    "warnings.filterwarnings('ignore')"
   ]
  },
  {
   "cell_type": "code",
   "execution_count": 2,
   "metadata": {},
   "outputs": [],
   "source": [
    "data = pd.read_csv('./data_filtrado.csv', sep = ';', decimal = '.')"
   ]
  },
  {
   "cell_type": "code",
   "execution_count": 3,
   "metadata": {},
   "outputs": [
    {
     "name": "stdout",
     "output_type": "stream",
     "text": [
      "El subset de Datos para Entrenamiento ha quedado con 27699 filas y 25 columnas\n",
      "El subset de Datos para Testeo ha quedado con 3078 filas y 25 columnas\n",
      "\n"
     ]
    }
   ],
   "source": [
    "from sklearn.model_selection import train_test_split\n",
    "    \n",
    "train, test = train_test_split(data, test_size = 0.1,\n",
    "                               shuffle = True, random_state = 0)\n",
    "\n",
    "print('El subset de Datos para Entrenamiento ha quedado con' + \n",
    "      f' {train.shape[0]} filas y {train.shape[1]} columnas')\n",
    "print('El subset de Datos para Testeo ha quedado con' + \n",
    "      f' {test.shape[0]} filas y {test.shape[1]} columnas\\n')\n",
    "\n",
    "train.to_csv('./train.csv', sep = ';', decimal = '.', index = False)\n",
    "test.to_csv('./test.csv', sep = ';', decimal = '.', index = False)"
   ]
  },
  {
   "cell_type": "code",
   "execution_count": 4,
   "metadata": {},
   "outputs": [
    {
     "data": {
      "text/plain": [
       "Experiences Offered             False\n",
       "Neighbourhood Cleansed          False\n",
       "Neighbourhood Group Cleansed    False\n",
       "City                            False\n",
       "Property Type                   False\n",
       "Room Type                       False\n",
       "Accommodates                    False\n",
       "Bathrooms                        True\n",
       "Bedrooms                         True\n",
       "Beds                             True\n",
       "Bed Type                        False\n",
       "Amenities                        True\n",
       "Square Feet                      True\n",
       "Price                            True\n",
       "Weekly Price                     True\n",
       "Monthly Price                    True\n",
       "Security Deposit                 True\n",
       "Cleaning Fee                     True\n",
       "Guests Included                 False\n",
       "Extra People                    False\n",
       "Minimum Nights                  False\n",
       "Maximum Nights                  False\n",
       "License                          True\n",
       "Cancellation Policy             False\n",
       "Reviews per Month                True\n",
       "dtype: bool"
      ]
     },
     "execution_count": 4,
     "metadata": {},
     "output_type": "execute_result"
    }
   ],
   "source": [
    "data_trn = pd.read_csv('./train.csv', sep = ';', decimal = '.')\n",
    "\n",
    "data_trn.isnull().any()"
   ]
  },
  {
   "cell_type": "code",
   "execution_count": 5,
   "metadata": {},
   "outputs": [
    {
     "data": {
      "text/plain": [
       "none    27699\n",
       "Name: Experiences Offered, dtype: int64"
      ]
     },
     "execution_count": 5,
     "metadata": {},
     "output_type": "execute_result"
    }
   ],
   "source": [
    "data_trn['Experiences Offered'].value_counts()"
   ]
  },
  {
   "cell_type": "code",
   "execution_count": 6,
   "metadata": {},
   "outputs": [],
   "source": [
    "data_trn.drop(['Experiences Offered'], axis = 1, inplace = True)"
   ]
  },
  {
   "cell_type": "code",
   "execution_count": 7,
   "metadata": {
    "scrolled": true
   },
   "outputs": [
    {
     "data": {
      "text/plain": [
       "Embajadores               1640\n",
       "la Dreta de l'Eixample    1468\n",
       "el Raval                  1260\n",
       "Universidad               1235\n",
       "la Vila de Gràcia         1046\n",
       "                          ... \n",
       "El Plantío                   2\n",
       "Fuentelareina                2\n",
       "Can Peguera                  1\n",
       "El Pardo                     1\n",
       "Baró de Viver                1\n",
       "Name: Neighbourhood Cleansed, Length: 198, dtype: int64"
      ]
     },
     "execution_count": 7,
     "metadata": {},
     "output_type": "execute_result"
    }
   ],
   "source": [
    "data_trn['Neighbourhood Cleansed'].value_counts()"
   ]
  },
  {
   "cell_type": "code",
   "execution_count": 8,
   "metadata": {},
   "outputs": [],
   "source": [
    "from sklearn.preprocessing import LabelEncoder\n",
    "le = LabelEncoder()\n",
    "\n",
    "data_trn = data_trn.drop(data_trn[(data_trn['Neighbourhood Cleansed'].isnull())].index)\n",
    "\n",
    "data_trn['Neighbourhood'] = le.fit_transform(data_trn['Neighbourhood Cleansed'])\n",
    "\n",
    "data_trn.drop(['Neighbourhood Cleansed'], axis = 1, inplace = True)"
   ]
  },
  {
   "cell_type": "code",
   "execution_count": 9,
   "metadata": {
    "scrolled": true
   },
   "outputs": [
    {
     "data": {
      "text/plain": [
       "55     1640\n",
       "176    1468\n",
       "171    1260\n",
       "139    1235\n",
       "194    1046\n",
       "       ... \n",
       "60        2\n",
       "88        2\n",
       "52        1\n",
       "25        1\n",
       "18        1\n",
       "Name: Neighbourhood, Length: 198, dtype: int64"
      ]
     },
     "execution_count": 9,
     "metadata": {},
     "output_type": "execute_result"
    }
   ],
   "source": [
    "data_trn['Neighbourhood'].value_counts()"
   ]
  },
  {
   "cell_type": "code",
   "execution_count": 10,
   "metadata": {},
   "outputs": [
    {
     "data": {
      "text/plain": [
       "count    27699.000000\n",
       "mean       126.142135\n",
       "std         52.893594\n",
       "min          0.000000\n",
       "25%         82.000000\n",
       "50%        139.000000\n",
       "75%        171.000000\n",
       "max        197.000000\n",
       "Name: Neighbourhood, dtype: float64"
      ]
     },
     "execution_count": 10,
     "metadata": {},
     "output_type": "execute_result"
    }
   ],
   "source": [
    "data_trn['Neighbourhood'].describe()"
   ]
  },
  {
   "cell_type": "code",
   "execution_count": 11,
   "metadata": {},
   "outputs": [
    {
     "data": {
      "text/plain": [
       "Centro                   6091\n",
       "Eixample                 5161\n",
       "Ciutat Vella             3507\n",
       "Sants-Montjuïc           1880\n",
       "Sant Martí               1668\n",
       "Gràcia                   1602\n",
       "Chamberí                  858\n",
       "Salamanca                 794\n",
       "Arganzuela                714\n",
       "Sarrià-Sant Gervasi       687\n",
       "Horta-Guinardó            526\n",
       "Tetuán                    405\n",
       "Retiro                    388\n",
       "Moncloa - Aravaca         379\n",
       "Latina                    333\n",
       "Carabanchel               315\n",
       "Chamartín                 314\n",
       "Les Corts                 307\n",
       "Ciudad Lineal             279\n",
       "Sant Andreu               266\n",
       "Puente de Vallecas        210\n",
       "Nou Barris                182\n",
       "Hortaleza                 167\n",
       "Fuencarral - El Pardo     140\n",
       "Usera                     131\n",
       "San Blas - Canillejas     108\n",
       "Villaverde                 75\n",
       "Barajas                    72\n",
       "Moratalaz                  66\n",
       "Villa de Vallecas          45\n",
       "Vicálvaro                  29\n",
       "Name: Neighbourhood Group Cleansed, dtype: int64"
      ]
     },
     "execution_count": 11,
     "metadata": {},
     "output_type": "execute_result"
    }
   ],
   "source": [
    "data_trn['Neighbourhood Group Cleansed'].value_counts()"
   ]
  },
  {
   "cell_type": "code",
   "execution_count": 12,
   "metadata": {},
   "outputs": [],
   "source": [
    "ngg_d = {'Otros Distritos': 0, 'Vicálvaro': 1, 'Villa de Vallecas': 2, 'Moratalaz': 3,\n",
    "         'Barajas': 4, 'Villaverde': 5, 'San Blas - Canillejas': 6, 'Usera': 7,\n",
    "         'Fuencarral - El Pardo': 8, 'Hortaleza': 9, 'Nou Barris': 10,\n",
    "         'Puente de Vallecas': 11, 'Sant Andreu': 12, 'Ciudad Lineal': 13,          \n",
    "         'Les Corts': 14, 'Chamartín': 15, 'Carabanchel': 16, 'Latina': 17,\n",
    "         'Moncloa - Aravaca': 18, 'Retiro': 19, 'Tetuán': 20, 'Horta-Guinardó': 21,\n",
    "         'Sarrià-Sant Gervasi': 22, 'Arganzuela': 23, 'Salamanca': 24, 'Chamberí': 25,\n",
    "         'Gràcia': 26, 'Sant Martí': 27, 'Sants-Montjuïc': 28, 'Ciutat Vella': 29,\n",
    "         'Eixample': 30, 'Centro': 31}"
   ]
  },
  {
   "cell_type": "code",
   "execution_count": 13,
   "metadata": {},
   "outputs": [],
   "source": [
    "data_trn['Neighbourhood_Group'] = data_trn['Neighbourhood Group Cleansed'].map(ngg_d)\n",
    "\n",
    "data_trn['Neighbourhood_Group'] = np.where((data_trn['Neighbourhood_Group'].isnull()), 0,\n",
    "                                           data_trn['Neighbourhood_Group'])\n",
    "\n",
    "data_trn.drop(['Neighbourhood Group Cleansed'], axis = 1, inplace = True)"
   ]
  },
  {
   "cell_type": "code",
   "execution_count": 14,
   "metadata": {},
   "outputs": [
    {
     "data": {
      "text/plain": [
       "31    6091\n",
       "30    5161\n",
       "29    3507\n",
       "28    1880\n",
       "27    1668\n",
       "26    1602\n",
       "25     858\n",
       "24     794\n",
       "23     714\n",
       "22     687\n",
       "21     526\n",
       "20     405\n",
       "19     388\n",
       "18     379\n",
       "17     333\n",
       "16     315\n",
       "15     314\n",
       "14     307\n",
       "13     279\n",
       "12     266\n",
       "11     210\n",
       "10     182\n",
       "9      167\n",
       "8      140\n",
       "7      131\n",
       "6      108\n",
       "5       75\n",
       "4       72\n",
       "3       66\n",
       "2       45\n",
       "1       29\n",
       "Name: Neighbourhood_Group, dtype: int64"
      ]
     },
     "execution_count": 14,
     "metadata": {},
     "output_type": "execute_result"
    }
   ],
   "source": [
    "data_trn['Neighbourhood_Group'].value_counts()"
   ]
  },
  {
   "cell_type": "code",
   "execution_count": 15,
   "metadata": {},
   "outputs": [
    {
     "data": {
      "text/plain": [
       "count    27699.000000\n",
       "mean        26.206361\n",
       "std          6.103047\n",
       "min          1.000000\n",
       "25%         24.000000\n",
       "50%         29.000000\n",
       "75%         30.000000\n",
       "max         31.000000\n",
       "Name: Neighbourhood_Group, dtype: float64"
      ]
     },
     "execution_count": 15,
     "metadata": {},
     "output_type": "execute_result"
    }
   ],
   "source": [
    "data_trn['Neighbourhood_Group'].describe()"
   ]
  },
  {
   "cell_type": "code",
   "execution_count": 16,
   "metadata": {},
   "outputs": [
    {
     "data": {
      "text/plain": [
       "Barcelona                              15695\n",
       "Madrid                                 11879\n",
       "Barcelona, Catalunya, ES                  33\n",
       "barcelona                                 27\n",
       "Madrid, Comunidad de Madrid, ES           19\n",
       "Barcelone                                 14\n",
       "madrid                                     6\n",
       "Barcellona                                 5\n",
       "Barcelona, España                          2\n",
       "Sagrada Familia, Barcelona                 1\n",
       "Madri                                      1\n",
       "08014 BARCELONA                            1\n",
       "BARCELONA                                  1\n",
       "Aravaca (Madrid)                           1\n",
       "Madrid, Vallecas (Fontarrón)               1\n",
       "Barcelona, Catalunya                       1\n",
       "Barcelona El RAVAL                         1\n",
       "Sant adria de besos                        1\n",
       "Madrid, Comunidad de Madrid, ESPANA        1\n",
       "Barcelona Sant Andreu de Palomar           1\n",
       "BARCELONA CLOT                             1\n",
       "Barcelona, Catalunya,                      1\n",
       "Barcelonaneta                              1\n",
       "Barcelona (Metro L1) Hostafrancs           1\n",
       "MADRID                                     1\n",
       "Comunidad de Madrid                        1\n",
       "las matas  madrid                          1\n",
       "Centro, Madrid                             1\n",
       "Name: City, dtype: int64"
      ]
     },
     "execution_count": 16,
     "metadata": {},
     "output_type": "execute_result"
    }
   ],
   "source": [
    "data_trn['City'].value_counts()"
   ]
  },
  {
   "cell_type": "code",
   "execution_count": 17,
   "metadata": {},
   "outputs": [],
   "source": [
    "data_trn['City'] = np.where((data_trn['City'].str.contains('arcel'))\n",
    "                            | ((data_trn['City'].str.contains('ARCEL'))),\n",
    "                            1, data_trn['City'])\n",
    "data_trn['City'] = np.where((data_trn['City'].str.contains('adr'))\n",
    "                            | ((data_trn['City'].str.contains('ADR'))),\n",
    "                            0, data_trn['City'])"
   ]
  },
  {
   "cell_type": "code",
   "execution_count": 18,
   "metadata": {},
   "outputs": [
    {
     "data": {
      "text/plain": [
       "1    15786\n",
       "0    11913\n",
       "Name: City, dtype: int64"
      ]
     },
     "execution_count": 18,
     "metadata": {},
     "output_type": "execute_result"
    }
   ],
   "source": [
    "data_trn['City'].value_counts()"
   ]
  },
  {
   "cell_type": "code",
   "execution_count": 19,
   "metadata": {},
   "outputs": [
    {
     "data": {
      "text/plain": [
       "count     27699\n",
       "unique        2\n",
       "top           1\n",
       "freq      15786\n",
       "Name: City, dtype: int64"
      ]
     },
     "execution_count": 19,
     "metadata": {},
     "output_type": "execute_result"
    }
   ],
   "source": [
    "data_trn['City'].describe()"
   ]
  },
  {
   "cell_type": "code",
   "execution_count": 20,
   "metadata": {
    "scrolled": false
   },
   "outputs": [
    {
     "data": {
      "text/plain": [
       "Apartment             23816\n",
       "House                  1337\n",
       "Bed & Breakfast         709\n",
       "Condominium             603\n",
       "Loft                    571\n",
       "Other                   335\n",
       "Dorm                     85\n",
       "Guesthouse               67\n",
       "Boat                     39\n",
       "Hostel                   32\n",
       "Chalet                   24\n",
       "Serviced apartment       16\n",
       "Villa                    12\n",
       "Boutique hotel           11\n",
       "Townhouse                 9\n",
       "Casa particular           7\n",
       "Timeshare                 5\n",
       "Guest suite               5\n",
       "Camper/RV                 5\n",
       "Tent                      3\n",
       "Cabin                     2\n",
       "Lighthouse                1\n",
       "Nature lodge              1\n",
       "Bungalow                  1\n",
       "Earth House               1\n",
       "Cave                      1\n",
       "Train                     1\n",
       "Name: Property Type, dtype: int64"
      ]
     },
     "execution_count": 20,
     "metadata": {},
     "output_type": "execute_result"
    }
   ],
   "source": [
    "data_trn['Property Type'].value_counts()"
   ]
  },
  {
   "cell_type": "code",
   "execution_count": 21,
   "metadata": {},
   "outputs": [],
   "source": [
    "pt_d = {'Boutique hotel': 1, 'Villa': 2, 'Serviced apartment': 3, 'Chalet': 4,\n",
    "        'Hostel': 5, 'Boat': 6, 'Guesthouse': 7, 'Dorm': 8, 'Loft': 9,\n",
    "        'Condominium': 10, 'Bed & Breakfast': 11, 'House': 12, 'Apartment': 13}"
   ]
  },
  {
   "cell_type": "code",
   "execution_count": 22,
   "metadata": {},
   "outputs": [],
   "source": [
    "data_trn['Property_Type'] = data_trn['Property Type'].map(pt_d)\n",
    "\n",
    "data_trn['Property_Type'] = np.where((data_trn['Property_Type'].isnull()), 0,\n",
    "                                     data_trn['Property_Type'])\n",
    "\n",
    "data_trn.drop(['Property Type'], axis = 1, inplace = True)"
   ]
  },
  {
   "cell_type": "code",
   "execution_count": 23,
   "metadata": {},
   "outputs": [
    {
     "data": {
      "text/plain": [
       "13.0    23816\n",
       "12.0     1337\n",
       "11.0      709\n",
       "10.0      603\n",
       "9.0       571\n",
       "0.0       377\n",
       "8.0        85\n",
       "7.0        67\n",
       "6.0        39\n",
       "5.0        32\n",
       "4.0        24\n",
       "3.0        16\n",
       "2.0        12\n",
       "1.0        11\n",
       "Name: Property_Type, dtype: int64"
      ]
     },
     "execution_count": 23,
     "metadata": {},
     "output_type": "execute_result"
    }
   ],
   "source": [
    "data_trn['Property_Type'].value_counts()"
   ]
  },
  {
   "cell_type": "code",
   "execution_count": 24,
   "metadata": {},
   "outputs": [
    {
     "data": {
      "text/plain": [
       "count    27699.000000\n",
       "mean        12.503773\n",
       "std          1.809630\n",
       "min          0.000000\n",
       "25%         13.000000\n",
       "50%         13.000000\n",
       "75%         13.000000\n",
       "max         13.000000\n",
       "Name: Property_Type, dtype: float64"
      ]
     },
     "execution_count": 24,
     "metadata": {},
     "output_type": "execute_result"
    }
   ],
   "source": [
    "data_trn['Property_Type'].describe()"
   ]
  },
  {
   "cell_type": "code",
   "execution_count": 25,
   "metadata": {},
   "outputs": [
    {
     "data": {
      "text/plain": [
       "Entire home/apt    15029\n",
       "Private room       12330\n",
       "Shared room          340\n",
       "Name: Room Type, dtype: int64"
      ]
     },
     "execution_count": 25,
     "metadata": {},
     "output_type": "execute_result"
    }
   ],
   "source": [
    "data_trn['Room Type'].value_counts()"
   ]
  },
  {
   "cell_type": "code",
   "execution_count": 26,
   "metadata": {},
   "outputs": [],
   "source": [
    "rt_d = {'Shared room': 0, 'Private room': 1, 'Entire home/apt': 2}"
   ]
  },
  {
   "cell_type": "code",
   "execution_count": 27,
   "metadata": {},
   "outputs": [],
   "source": [
    "data_trn['Room_Type'] = data_trn['Room Type'].map(rt_d)\n",
    "\n",
    "data_trn['Room_Type'] = np.where((data_trn['Room_Type'].isnull()),\n",
    "                                 2, data_trn['Room_Type'])\n",
    "\n",
    "data_trn.drop(['Room Type'], axis = 1, inplace = True)"
   ]
  },
  {
   "cell_type": "code",
   "execution_count": 28,
   "metadata": {},
   "outputs": [
    {
     "data": {
      "text/plain": [
       "2    15029\n",
       "1    12330\n",
       "0      340\n",
       "Name: Room_Type, dtype: int64"
      ]
     },
     "execution_count": 28,
     "metadata": {},
     "output_type": "execute_result"
    }
   ],
   "source": [
    "data_trn['Room_Type'].value_counts()"
   ]
  },
  {
   "cell_type": "code",
   "execution_count": 29,
   "metadata": {},
   "outputs": [
    {
     "data": {
      "text/plain": [
       "count    27699.000000\n",
       "mean         1.530308\n",
       "std          0.523107\n",
       "min          0.000000\n",
       "25%          1.000000\n",
       "50%          2.000000\n",
       "75%          2.000000\n",
       "max          2.000000\n",
       "Name: Room_Type, dtype: float64"
      ]
     },
     "execution_count": 29,
     "metadata": {},
     "output_type": "execute_result"
    }
   ],
   "source": [
    "data_trn['Room_Type'].describe()"
   ]
  },
  {
   "cell_type": "code",
   "execution_count": 30,
   "metadata": {},
   "outputs": [
    {
     "data": {
      "text/plain": [
       "2.0     10449\n",
       "4.0      5484\n",
       "1.0      3645\n",
       "6.0      2475\n",
       "3.0      2370\n",
       "5.0      1560\n",
       "8.0       685\n",
       "7.0       394\n",
       "10.0      254\n",
       "9.0       123\n",
       "12.0       96\n",
       "16.0       80\n",
       "14.0       33\n",
       "11.0       32\n",
       "13.0       13\n",
       "15.0        6\n",
       "Name: Accommodates, dtype: int64"
      ]
     },
     "execution_count": 30,
     "metadata": {},
     "output_type": "execute_result"
    }
   ],
   "source": [
    "data_trn['Accommodates'].value_counts()"
   ]
  },
  {
   "cell_type": "code",
   "execution_count": 31,
   "metadata": {},
   "outputs": [
    {
     "data": {
      "text/plain": [
       "count    27699.000000\n",
       "mean         3.308026\n",
       "std          2.134579\n",
       "min          1.000000\n",
       "25%          2.000000\n",
       "50%          2.000000\n",
       "75%          4.000000\n",
       "max         16.000000\n",
       "Name: Accommodates, dtype: float64"
      ]
     },
     "execution_count": 31,
     "metadata": {},
     "output_type": "execute_result"
    }
   ],
   "source": [
    "data_trn['Accommodates'].describe()"
   ]
  },
  {
   "cell_type": "code",
   "execution_count": 32,
   "metadata": {},
   "outputs": [],
   "source": [
    "data_trn['Accommodates'] = np.where((data_trn['Accommodates'].isnull()),\n",
    "                                    2, data_trn['Accommodates'])"
   ]
  },
  {
   "cell_type": "code",
   "execution_count": 33,
   "metadata": {},
   "outputs": [
    {
     "data": {
      "text/plain": [
       "1.0    20187\n",
       "2.0     4813\n",
       "1.5     1457\n",
       "3.0      429\n",
       "2.5      202\n",
       "0.5      135\n",
       "0.0      109\n",
       "4.0      106\n",
       "5.0       55\n",
       "3.5       38\n",
       "6.0       28\n",
       "4.5       26\n",
       "8.0       15\n",
       "5.5        9\n",
       "7.0        3\n",
       "7.5        1\n",
       "6.5        1\n",
       "Name: Bathrooms, dtype: int64"
      ]
     },
     "execution_count": 33,
     "metadata": {},
     "output_type": "execute_result"
    }
   ],
   "source": [
    "data_trn['Bathrooms'].value_counts()"
   ]
  },
  {
   "cell_type": "code",
   "execution_count": 34,
   "metadata": {},
   "outputs": [
    {
     "data": {
      "text/plain": [
       "1    57\n",
       "2    28\n",
       "Name: Room_Type, dtype: int64"
      ]
     },
     "execution_count": 34,
     "metadata": {},
     "output_type": "execute_result"
    }
   ],
   "source": [
    "data_trn[data_trn['Bathrooms'].isnull()]['Room_Type'].value_counts()"
   ]
  },
  {
   "cell_type": "code",
   "execution_count": 35,
   "metadata": {},
   "outputs": [],
   "source": [
    "data_trn['Bathrooms'] = np.where((data_trn['Bathrooms'].isnull())\n",
    "                                 & ((data_trn['Room_Type'] == 0)\n",
    "                                    | (data_trn['Room_Type'] == 1)),\n",
    "                                 0.0, data_trn['Bathrooms'])\n",
    "data_trn['Bathrooms'] = np.where((data_trn['Bathrooms'].isnull())\n",
    "                                 & (data_trn['Room_Type'] == 2),\n",
    "                                 1.0, data_trn['Bathrooms'])"
   ]
  },
  {
   "cell_type": "code",
   "execution_count": 36,
   "metadata": {},
   "outputs": [
    {
     "data": {
      "text/plain": [
       "1.0    20215\n",
       "2.0     4813\n",
       "1.5     1457\n",
       "3.0      429\n",
       "2.5      202\n",
       "0.0      166\n",
       "0.5      135\n",
       "4.0      106\n",
       "5.0       55\n",
       "3.5       38\n",
       "6.0       28\n",
       "4.5       26\n",
       "8.0       15\n",
       "5.5        9\n",
       "7.0        3\n",
       "7.5        1\n",
       "6.5        1\n",
       "Name: Bathrooms, dtype: int64"
      ]
     },
     "execution_count": 36,
     "metadata": {},
     "output_type": "execute_result"
    }
   ],
   "source": [
    "data_trn['Bathrooms'].value_counts()"
   ]
  },
  {
   "cell_type": "code",
   "execution_count": 37,
   "metadata": {},
   "outputs": [
    {
     "data": {
      "text/plain": [
       "count    27699.000000\n",
       "mean         1.271075\n",
       "std          0.591778\n",
       "min          0.000000\n",
       "25%          1.000000\n",
       "50%          1.000000\n",
       "75%          1.500000\n",
       "max          8.000000\n",
       "Name: Bathrooms, dtype: float64"
      ]
     },
     "execution_count": 37,
     "metadata": {},
     "output_type": "execute_result"
    }
   ],
   "source": [
    "data_trn['Bathrooms'].describe()"
   ]
  },
  {
   "cell_type": "code",
   "execution_count": 38,
   "metadata": {},
   "outputs": [
    {
     "data": {
      "text/plain": [
       "1.0     17985\n",
       "2.0      5132\n",
       "3.0      2324\n",
       "0.0      1274\n",
       "4.0       693\n",
       "5.0       154\n",
       "6.0        61\n",
       "10.0       14\n",
       "7.0         9\n",
       "8.0         7\n",
       "9.0         6\n",
       "Name: Bedrooms, dtype: int64"
      ]
     },
     "execution_count": 38,
     "metadata": {},
     "output_type": "execute_result"
    }
   ],
   "source": [
    "data_trn['Bedrooms'].value_counts()"
   ]
  },
  {
   "cell_type": "code",
   "execution_count": 39,
   "metadata": {},
   "outputs": [],
   "source": [
    "data_trn['Bedrooms'] = np.where(data_trn['Bedrooms'].isnull(),\n",
    "                                0.0, data_trn['Bedrooms'])"
   ]
  },
  {
   "cell_type": "code",
   "execution_count": 40,
   "metadata": {},
   "outputs": [
    {
     "data": {
      "text/plain": [
       "1.0     17985\n",
       "2.0      5132\n",
       "3.0      2324\n",
       "0.0      1314\n",
       "4.0       693\n",
       "5.0       154\n",
       "6.0        61\n",
       "10.0       14\n",
       "7.0         9\n",
       "8.0         7\n",
       "9.0         6\n",
       "Name: Bedrooms, dtype: int64"
      ]
     },
     "execution_count": 40,
     "metadata": {},
     "output_type": "execute_result"
    }
   ],
   "source": [
    "data_trn['Bedrooms'].value_counts()"
   ]
  },
  {
   "cell_type": "code",
   "execution_count": 41,
   "metadata": {},
   "outputs": [
    {
     "data": {
      "text/plain": [
       "count    27699.000000\n",
       "mean         1.423950\n",
       "std          0.914706\n",
       "min          0.000000\n",
       "25%          1.000000\n",
       "50%          1.000000\n",
       "75%          2.000000\n",
       "max         10.000000\n",
       "Name: Bedrooms, dtype: float64"
      ]
     },
     "execution_count": 41,
     "metadata": {},
     "output_type": "execute_result"
    }
   ],
   "source": [
    "data_trn['Bedrooms'].describe()"
   ]
  },
  {
   "cell_type": "code",
   "execution_count": 42,
   "metadata": {},
   "outputs": [
    {
     "data": {
      "text/plain": [
       "1.0     13697\n",
       "2.0      6428\n",
       "3.0      3285\n",
       "4.0      2065\n",
       "5.0       902\n",
       "6.0       575\n",
       "7.0       224\n",
       "8.0       162\n",
       "10.0       89\n",
       "9.0        71\n",
       "16.0       41\n",
       "12.0       31\n",
       "11.0       17\n",
       "14.0       17\n",
       "13.0       10\n",
       "15.0        7\n",
       "0.0         1\n",
       "Name: Beds, dtype: int64"
      ]
     },
     "execution_count": 42,
     "metadata": {},
     "output_type": "execute_result"
    }
   ],
   "source": [
    "data_trn['Beds'].value_counts()"
   ]
  },
  {
   "cell_type": "code",
   "execution_count": 43,
   "metadata": {},
   "outputs": [],
   "source": [
    "data_trn['Beds'] = np.where(data_trn['Beds'].isnull(),\n",
    "                            0.0, data_trn['Beds'])"
   ]
  },
  {
   "cell_type": "code",
   "execution_count": 44,
   "metadata": {},
   "outputs": [
    {
     "data": {
      "text/plain": [
       "1.0     13697\n",
       "2.0      6428\n",
       "3.0      3285\n",
       "4.0      2065\n",
       "5.0       902\n",
       "6.0       575\n",
       "7.0       224\n",
       "8.0       162\n",
       "10.0       89\n",
       "0.0        78\n",
       "9.0        71\n",
       "16.0       41\n",
       "12.0       31\n",
       "14.0       17\n",
       "11.0       17\n",
       "13.0       10\n",
       "15.0        7\n",
       "Name: Beds, dtype: int64"
      ]
     },
     "execution_count": 44,
     "metadata": {},
     "output_type": "execute_result"
    }
   ],
   "source": [
    "data_trn['Beds'].value_counts()"
   ]
  },
  {
   "cell_type": "code",
   "execution_count": 45,
   "metadata": {},
   "outputs": [
    {
     "data": {
      "text/plain": [
       "count    27699.000000\n",
       "mean         2.119535\n",
       "std          1.704136\n",
       "min          0.000000\n",
       "25%          1.000000\n",
       "50%          2.000000\n",
       "75%          3.000000\n",
       "max         16.000000\n",
       "Name: Beds, dtype: float64"
      ]
     },
     "execution_count": 45,
     "metadata": {},
     "output_type": "execute_result"
    }
   ],
   "source": [
    "data_trn['Beds'].describe()"
   ]
  },
  {
   "cell_type": "code",
   "execution_count": 46,
   "metadata": {},
   "outputs": [
    {
     "data": {
      "text/plain": [
       "Real Bed         27215\n",
       "Pull-out Sofa      354\n",
       "Futon               93\n",
       "Couch               24\n",
       "Airbed              13\n",
       "Name: Bed Type, dtype: int64"
      ]
     },
     "execution_count": 46,
     "metadata": {},
     "output_type": "execute_result"
    }
   ],
   "source": [
    "data_trn['Bed Type'].value_counts()"
   ]
  },
  {
   "cell_type": "code",
   "execution_count": 47,
   "metadata": {},
   "outputs": [],
   "source": [
    "bt_d = {'Airbed': 0, 'Couch': 1, 'Futon': 2, 'Pull-out Sofa': 3, 'Real Bed': 4}"
   ]
  },
  {
   "cell_type": "code",
   "execution_count": 48,
   "metadata": {},
   "outputs": [],
   "source": [
    "data_trn['Bed_Type'] = data_trn['Bed Type'].map(bt_d)\n",
    "\n",
    "data_trn['Bed_Type'] = np.where((data_trn['Bed_Type'].isnull()),\n",
    "                                4, data_trn['Bed_Type'])\n",
    "\n",
    "data_trn.drop(['Bed Type'], axis = 1, inplace = True)"
   ]
  },
  {
   "cell_type": "code",
   "execution_count": 49,
   "metadata": {},
   "outputs": [
    {
     "data": {
      "text/plain": [
       "4    27215\n",
       "3      354\n",
       "2       93\n",
       "1       24\n",
       "0       13\n",
       "Name: Bed_Type, dtype: int64"
      ]
     },
     "execution_count": 49,
     "metadata": {},
     "output_type": "execute_result"
    }
   ],
   "source": [
    "data_trn['Bed_Type'].value_counts()"
   ]
  },
  {
   "cell_type": "code",
   "execution_count": 50,
   "metadata": {},
   "outputs": [
    {
     "data": {
      "text/plain": [
       "count    27699.000000\n",
       "mean         3.976028\n",
       "std          0.202348\n",
       "min          0.000000\n",
       "25%          4.000000\n",
       "50%          4.000000\n",
       "75%          4.000000\n",
       "max          4.000000\n",
       "Name: Bed_Type, dtype: float64"
      ]
     },
     "execution_count": 50,
     "metadata": {},
     "output_type": "execute_result"
    }
   ],
   "source": [
    "data_trn['Bed_Type'].describe()"
   ]
  },
  {
   "cell_type": "code",
   "execution_count": 51,
   "metadata": {},
   "outputs": [
    {
     "data": {
      "text/plain": [
       "translation missing: en.hosting_amenity_49,translation missing: en.hosting_amenity_50                                                                                                                                                                                                                                                                                            51\n",
       "TV,Internet,Wireless Internet,Air conditioning,Kitchen,Elevator in building,Buzzer/wireless intercom,Heating,Family/kid friendly,Washer,Essentials,Hangers,Hair dryer,Iron,Laptop friendly workspace                                                                                                                                                                             48\n",
       "TV,Internet,Wireless Internet,Air conditioning,Kitchen,Elevator in building,Buzzer/wireless intercom,Heating,Family/kid friendly,Washer,Essentials,Hangers,Hair dryer,Iron                                                                                                                                                                                                       38\n",
       "TV,Internet,Wireless Internet,Air conditioning,Kitchen,Elevator in building,Buzzer/wireless intercom,Heating,Family/kid friendly,Washer,Essentials,Shampoo,Hangers,Hair dryer,Iron                                                                                                                                                                                               36\n",
       "TV,Wireless Internet,Air conditioning,Kitchen,Elevator in building,Heating,Washer,Essentials,Shampoo                                                                                                                                                                                                                                                                             34\n",
       "                                                                                                                                                                                                                                                                                                                                                                                 ..\n",
       "TV,Internet,Wireless Internet,Kitchen,Breakfast,Elevator in building,Buzzer/wireless intercom,Heating,Washer,Dryer,Essentials,Shampoo,Lock on bedroom door,Hangers,Hair dryer,Laptop friendly workspace                                                                                                                                                                           1\n",
       "TV,Internet,Wireless Internet,Kitchen,Buzzer/wireless intercom,Heating,Family/kid friendly,Smoke detector,Carbon monoxide detector,Safety card,Fire extinguisher,Essentials,Shampoo,Hangers,Hair dryer,Iron,Laptop friendly workspace                                                                                                                                             1\n",
       "TV,Internet,Wireless Internet,Air conditioning,Wheelchair accessible,Pool,Kitchen,Free parking on premises,Smoking allowed,Doorman,Pets live on this property,Cat(s),Buzzer/wireless intercom,Heating,Family/kid friendly,Washer,Smoke detector,Carbon monoxide detector,First aid kit,Fire extinguisher,Essentials,Shampoo,Hangers,Hair dryer,Iron,Laptop friendly workspace     1\n",
       "TV,Cable TV,Internet,Wireless Internet,Air conditioning,Kitchen,Buzzer/wireless intercom,Heating,Family/kid friendly,Washer,Safety card,Essentials,Shampoo,24-hour check-in,Hangers,Hair dryer,Iron,Laptop friendly workspace                                                                                                                                                     1\n",
       "Cable TV,Wireless Internet,Kitchen,Buzzer/wireless intercom,Heating,Washer                                                                                                                                                                                                                                                                                                        1\n",
       "Name: Amenities, Length: 22450, dtype: int64"
      ]
     },
     "execution_count": 51,
     "metadata": {},
     "output_type": "execute_result"
    }
   ],
   "source": [
    "data_trn['Amenities'].value_counts()"
   ]
  },
  {
   "cell_type": "code",
   "execution_count": 52,
   "metadata": {},
   "outputs": [],
   "source": [
    "data_trn['Amenities'] = np.where((data_trn['Amenities'].isnull()), '0',\n",
    "                                 data_trn['Amenities'])\n",
    "data_trn['Amenities'] = np.where((data_trn['Amenities'] == '0'), 0,\n",
    "                                 data_trn['Amenities'].apply(lambda x: len(x.split(\",\"))))"
   ]
  },
  {
   "cell_type": "code",
   "execution_count": 53,
   "metadata": {},
   "outputs": [
    {
     "data": {
      "text/plain": [
       "14    2404\n",
       "13    2343\n",
       "15    2333\n",
       "12    2296\n",
       "11    2139\n",
       "16    2009\n",
       "10    1797\n",
       "17    1727\n",
       "9     1533\n",
       "18    1458\n",
       "19    1139\n",
       "8     1093\n",
       "20     949\n",
       "7      766\n",
       "21     686\n",
       "22     562\n",
       "6      520\n",
       "23     345\n",
       "5      282\n",
       "24     256\n",
       "0      216\n",
       "4      159\n",
       "25     147\n",
       "2      123\n",
       "3      116\n",
       "26     104\n",
       "1       62\n",
       "27      58\n",
       "28      36\n",
       "29      18\n",
       "31       9\n",
       "30       8\n",
       "32       3\n",
       "39       1\n",
       "34       1\n",
       "33       1\n",
       "Name: Amenities, dtype: int64"
      ]
     },
     "execution_count": 53,
     "metadata": {},
     "output_type": "execute_result"
    }
   ],
   "source": [
    "data_trn['Amenities'].value_counts()"
   ]
  },
  {
   "cell_type": "code",
   "execution_count": 54,
   "metadata": {},
   "outputs": [
    {
     "data": {
      "text/plain": [
       "count    27699.000000\n",
       "mean        13.765804\n",
       "std          4.752088\n",
       "min          0.000000\n",
       "25%         11.000000\n",
       "50%         14.000000\n",
       "75%         17.000000\n",
       "max         39.000000\n",
       "Name: Amenities, dtype: float64"
      ]
     },
     "execution_count": 54,
     "metadata": {},
     "output_type": "execute_result"
    }
   ],
   "source": [
    "data_trn['Amenities'].describe()"
   ]
  },
  {
   "cell_type": "code",
   "execution_count": 55,
   "metadata": {},
   "outputs": [
    {
     "data": {
      "text/plain": [
       "0.0       473\n",
       "753.0      35\n",
       "861.0      33\n",
       "1076.0     31\n",
       "646.0      30\n",
       "         ... \n",
       "678.0       1\n",
       "15.0        1\n",
       "7.0         1\n",
       "570.0       1\n",
       "850.0       1\n",
       "Name: Square Feet, Length: 131, dtype: int64"
      ]
     },
     "execution_count": 55,
     "metadata": {},
     "output_type": "execute_result"
    }
   ],
   "source": [
    "data_trn['Square Feet'].value_counts()"
   ]
  },
  {
   "cell_type": "code",
   "execution_count": 56,
   "metadata": {},
   "outputs": [
    {
     "name": "stdout",
     "output_type": "stream",
     "text": [
      "La columna 'Square Feet' tiene 26548 nulos\n"
     ]
    }
   ],
   "source": [
    "print(\"La columna 'Square Feet' tiene \" + \n",
    "      f\"{data_trn['Square Feet'].isnull().sum()}\" + \n",
    "      \" nulos\")"
   ]
  },
  {
   "cell_type": "code",
   "execution_count": 57,
   "metadata": {},
   "outputs": [],
   "source": [
    "data_trn.drop(['Square Feet'], axis = 1, inplace = True)"
   ]
  },
  {
   "cell_type": "code",
   "execution_count": 58,
   "metadata": {},
   "outputs": [
    {
     "data": {
      "text/plain": [
       "50.0     1219\n",
       "30.0     1154\n",
       "40.0     1076\n",
       "35.0     1035\n",
       "25.0     1033\n",
       "         ... \n",
       "236.0       1\n",
       "579.0       1\n",
       "372.0       1\n",
       "281.0       1\n",
       "263.0       1\n",
       "Name: Price, Length: 381, dtype: int64"
      ]
     },
     "execution_count": 58,
     "metadata": {},
     "output_type": "execute_result"
    }
   ],
   "source": [
    "data_trn['Price'].value_counts()"
   ]
  },
  {
   "cell_type": "code",
   "execution_count": 59,
   "metadata": {},
   "outputs": [
    {
     "data": {
      "text/plain": [
       "count    27651.000000\n",
       "mean        78.313985\n",
       "std         74.701599\n",
       "min          9.000000\n",
       "25%         35.000000\n",
       "50%         59.000000\n",
       "75%         95.000000\n",
       "max        999.000000\n",
       "Name: Price, dtype: float64"
      ]
     },
     "execution_count": 59,
     "metadata": {},
     "output_type": "execute_result"
    }
   ],
   "source": [
    "data_trn['Price'].describe()"
   ]
  },
  {
   "cell_type": "code",
   "execution_count": 60,
   "metadata": {},
   "outputs": [],
   "source": [
    "data_trn['Price'] = np.where((data_trn['Price'].isnull()\n",
    "                              & (~data_trn['Weekly Price'].isnull())),\n",
    "                             np.around(data_trn['Weekly Price'] / 7,\n",
    "                                       0), data_trn['Price'])\n",
    "data_trn['Price'] = np.where((data_trn['Price'].isnull()\n",
    "                              & (~data_trn['Monthly Price'].isnull())),\n",
    "                             np.around(data_trn['Monthly Price'] / 30,\n",
    "                                       0), data_trn['Price'])"
   ]
  },
  {
   "cell_type": "code",
   "execution_count": 61,
   "metadata": {},
   "outputs": [
    {
     "data": {
      "text/plain": [
       "count    27659.000000\n",
       "mean        78.347012\n",
       "std         74.769010\n",
       "min          9.000000\n",
       "25%         35.000000\n",
       "50%         59.000000\n",
       "75%         95.000000\n",
       "max        999.000000\n",
       "Name: Price, dtype: float64"
      ]
     },
     "execution_count": 61,
     "metadata": {},
     "output_type": "execute_result"
    }
   ],
   "source": [
    "data_trn['Price'].describe()"
   ]
  },
  {
   "cell_type": "code",
   "execution_count": 62,
   "metadata": {},
   "outputs": [],
   "source": [
    "data_trn = data_trn.drop(data_trn[(data_trn['Price'].isnull())].index)"
   ]
  },
  {
   "cell_type": "code",
   "execution_count": 63,
   "metadata": {},
   "outputs": [],
   "source": [
    "data_trn.drop(['Weekly Price', 'Monthly Price'], axis = 1, inplace = True)"
   ]
  },
  {
   "cell_type": "code",
   "execution_count": 64,
   "metadata": {},
   "outputs": [
    {
     "data": {
      "text/plain": [
       "100.0    2912\n",
       "200.0    2892\n",
       "150.0    2205\n",
       "300.0    1610\n",
       "250.0     737\n",
       "         ... \n",
       "215.0       1\n",
       "134.0       1\n",
       "158.0       1\n",
       "304.0       1\n",
       "527.0       1\n",
       "Name: Security Deposit, Length: 142, dtype: int64"
      ]
     },
     "execution_count": 64,
     "metadata": {},
     "output_type": "execute_result"
    }
   ],
   "source": [
    "data_trn['Security Deposit'].value_counts()"
   ]
  },
  {
   "cell_type": "code",
   "execution_count": 65,
   "metadata": {},
   "outputs": [
    {
     "data": {
      "text/plain": [
       "count    12754.000000\n",
       "mean       201.789635\n",
       "std        116.566777\n",
       "min         69.000000\n",
       "25%        100.000000\n",
       "50%        200.000000\n",
       "75%        250.000000\n",
       "max        990.000000\n",
       "Name: Security Deposit, dtype: float64"
      ]
     },
     "execution_count": 65,
     "metadata": {},
     "output_type": "execute_result"
    }
   ],
   "source": [
    "data_trn['Security Deposit'].describe()"
   ]
  },
  {
   "cell_type": "code",
   "execution_count": 66,
   "metadata": {},
   "outputs": [],
   "source": [
    "data_trn['Security_Deposit'] = np.where((data_trn['Security Deposit'].isnull()),\n",
    "                                        0.0, data_trn['Security Deposit'])\n",
    "\n",
    "data_trn.drop(['Security Deposit'], axis = 1, inplace = True)"
   ]
  },
  {
   "cell_type": "code",
   "execution_count": 67,
   "metadata": {},
   "outputs": [
    {
     "data": {
      "text/plain": [
       "0.0      14905\n",
       "100.0     2912\n",
       "200.0     2892\n",
       "150.0     2205\n",
       "300.0     1610\n",
       "         ...  \n",
       "621.0        1\n",
       "158.0        1\n",
       "155.0        1\n",
       "210.0        1\n",
       "154.0        1\n",
       "Name: Security_Deposit, Length: 143, dtype: int64"
      ]
     },
     "execution_count": 67,
     "metadata": {},
     "output_type": "execute_result"
    }
   ],
   "source": [
    "data_trn['Security_Deposit'].value_counts()"
   ]
  },
  {
   "cell_type": "code",
   "execution_count": 68,
   "metadata": {},
   "outputs": [
    {
     "data": {
      "text/plain": [
       "count    27659.000000\n",
       "mean        93.048375\n",
       "std        127.999426\n",
       "min          0.000000\n",
       "25%          0.000000\n",
       "50%          0.000000\n",
       "75%        150.000000\n",
       "max        990.000000\n",
       "Name: Security_Deposit, dtype: float64"
      ]
     },
     "execution_count": 68,
     "metadata": {},
     "output_type": "execute_result"
    }
   ],
   "source": [
    "data_trn['Security_Deposit'].describe()"
   ]
  },
  {
   "cell_type": "code",
   "execution_count": 69,
   "metadata": {},
   "outputs": [
    {
     "data": {
      "text/plain": [
       "20.0     2158\n",
       "30.0     2094\n",
       "10.0     1768\n",
       "50.0     1449\n",
       "15.0     1404\n",
       "         ... \n",
       "375.0       1\n",
       "240.0       1\n",
       "104.0       1\n",
       "81.0        1\n",
       "54.0        1\n",
       "Name: Cleaning Fee, Length: 119, dtype: int64"
      ]
     },
     "execution_count": 69,
     "metadata": {},
     "output_type": "execute_result"
    }
   ],
   "source": [
    "data_trn['Cleaning Fee'].value_counts()"
   ]
  },
  {
   "cell_type": "code",
   "execution_count": 70,
   "metadata": {},
   "outputs": [
    {
     "data": {
      "text/plain": [
       "count    17260.000000\n",
       "mean        35.167555\n",
       "std         29.406694\n",
       "min          4.000000\n",
       "25%         15.000000\n",
       "50%         30.000000\n",
       "75%         50.000000\n",
       "max        500.000000\n",
       "Name: Cleaning Fee, dtype: float64"
      ]
     },
     "execution_count": 70,
     "metadata": {},
     "output_type": "execute_result"
    }
   ],
   "source": [
    "data_trn['Cleaning Fee'].describe()"
   ]
  },
  {
   "cell_type": "code",
   "execution_count": 71,
   "metadata": {},
   "outputs": [],
   "source": [
    "data_trn['Cleaning_Fee'] = np.where((data_trn['Cleaning Fee'].isnull()),\n",
    "                                    0.0, data_trn['Cleaning Fee'])\n",
    "\n",
    "data_trn.drop(['Cleaning Fee'], axis = 1, inplace = True)"
   ]
  },
  {
   "cell_type": "code",
   "execution_count": 72,
   "metadata": {},
   "outputs": [
    {
     "data": {
      "text/plain": [
       "0.0      10399\n",
       "20.0      2158\n",
       "30.0      2094\n",
       "10.0      1768\n",
       "50.0      1449\n",
       "         ...  \n",
       "76.0         1\n",
       "240.0        1\n",
       "104.0        1\n",
       "57.0         1\n",
       "220.0        1\n",
       "Name: Cleaning_Fee, Length: 120, dtype: int64"
      ]
     },
     "execution_count": 72,
     "metadata": {},
     "output_type": "execute_result"
    }
   ],
   "source": [
    "data_trn['Cleaning_Fee'].value_counts()"
   ]
  },
  {
   "cell_type": "code",
   "execution_count": 73,
   "metadata": {},
   "outputs": [
    {
     "data": {
      "text/plain": [
       "count    27659.000000\n",
       "mean        21.945551\n",
       "std         28.806140\n",
       "min          0.000000\n",
       "25%          0.000000\n",
       "50%         15.000000\n",
       "75%         30.000000\n",
       "max        500.000000\n",
       "Name: Cleaning_Fee, dtype: float64"
      ]
     },
     "execution_count": 73,
     "metadata": {},
     "output_type": "execute_result"
    }
   ],
   "source": [
    "data_trn['Cleaning_Fee'].describe()"
   ]
  },
  {
   "cell_type": "code",
   "execution_count": 74,
   "metadata": {},
   "outputs": [
    {
     "data": {
      "text/plain": [
       "1.0     18355\n",
       "2.0      5921\n",
       "4.0      1602\n",
       "3.0       938\n",
       "6.0       335\n",
       "5.0       294\n",
       "8.0        97\n",
       "7.0        50\n",
       "10.0       34\n",
       "12.0       10\n",
       "9.0         7\n",
       "11.0        6\n",
       "16.0        4\n",
       "14.0        3\n",
       "15.0        2\n",
       "13.0        1\n",
       "Name: Guests Included, dtype: int64"
      ]
     },
     "execution_count": 74,
     "metadata": {},
     "output_type": "execute_result"
    }
   ],
   "source": [
    "data_trn['Guests Included'].value_counts()"
   ]
  },
  {
   "cell_type": "code",
   "execution_count": 75,
   "metadata": {},
   "outputs": [
    {
     "data": {
      "text/plain": [
       "count    27659.000000\n",
       "mean         1.618388\n",
       "std          1.204114\n",
       "min          1.000000\n",
       "25%          1.000000\n",
       "50%          1.000000\n",
       "75%          2.000000\n",
       "max         16.000000\n",
       "Name: Guests Included, dtype: float64"
      ]
     },
     "execution_count": 75,
     "metadata": {},
     "output_type": "execute_result"
    }
   ],
   "source": [
    "data_trn['Guests Included'].describe()"
   ]
  },
  {
   "cell_type": "code",
   "execution_count": 76,
   "metadata": {},
   "outputs": [],
   "source": [
    "data_trn['Guests_Included'] = np.where((data_trn['Guests Included'].isnull()),\n",
    "                                       1, data_trn['Guests Included'])\n",
    "\n",
    "data_trn.drop(['Guests Included'], axis = 1, inplace = True)"
   ]
  },
  {
   "cell_type": "code",
   "execution_count": 77,
   "metadata": {},
   "outputs": [
    {
     "data": {
      "text/plain": [
       "0.0      14121\n",
       "10.0      3364\n",
       "15.0      2810\n",
       "20.0      2139\n",
       "25.0       865\n",
       "         ...  \n",
       "180.0        1\n",
       "74.0         1\n",
       "120.0        1\n",
       "78.0         1\n",
       "276.0        1\n",
       "Name: Extra People, Length: 74, dtype: int64"
      ]
     },
     "execution_count": 77,
     "metadata": {},
     "output_type": "execute_result"
    }
   ],
   "source": [
    "data_trn['Extra People'].value_counts()"
   ]
  },
  {
   "cell_type": "code",
   "execution_count": 78,
   "metadata": {},
   "outputs": [
    {
     "data": {
      "text/plain": [
       "count    27659.000000\n",
       "mean         8.346976\n",
       "std         11.970683\n",
       "min          0.000000\n",
       "25%          0.000000\n",
       "50%          0.000000\n",
       "75%         15.000000\n",
       "max        284.000000\n",
       "Name: Extra People, dtype: float64"
      ]
     },
     "execution_count": 78,
     "metadata": {},
     "output_type": "execute_result"
    }
   ],
   "source": [
    "data_trn['Extra People'].describe()"
   ]
  },
  {
   "cell_type": "code",
   "execution_count": 79,
   "metadata": {},
   "outputs": [],
   "source": [
    "data_trn['Extra_People'] = np.where((data_trn['Extra People'].isnull()),\n",
    "                                    0, data_trn['Extra People'])\n",
    "\n",
    "data_trn.drop(['Extra People'], axis = 1, inplace = True)"
   ]
  },
  {
   "cell_type": "code",
   "execution_count": 80,
   "metadata": {},
   "outputs": [
    {
     "data": {
      "text/plain": [
       "2.0       8998\n",
       "1.0       8878\n",
       "3.0       6003\n",
       "4.0       1218\n",
       "5.0        830\n",
       "7.0        504\n",
       "6.0        214\n",
       "10.0       195\n",
       "30.0       153\n",
       "32.0       145\n",
       "15.0        98\n",
       "31.0        83\n",
       "20.0        58\n",
       "14.0        54\n",
       "28.0        25\n",
       "12.0        23\n",
       "25.0        22\n",
       "90.0        21\n",
       "8.0         21\n",
       "21.0        18\n",
       "60.0        15\n",
       "9.0          9\n",
       "13.0         6\n",
       "29.0         5\n",
       "365.0        5\n",
       "26.0         5\n",
       "200.0        4\n",
       "120.0        4\n",
       "180.0        3\n",
       "11.0         3\n",
       "17.0         3\n",
       "16.0         3\n",
       "80.0         2\n",
       "27.0         2\n",
       "24.0         2\n",
       "19.0         2\n",
       "360.0        2\n",
       "91.0         2\n",
       "35.0         2\n",
       "40.0         2\n",
       "100.0        2\n",
       "33.0         2\n",
       "89.0         1\n",
       "99.0         1\n",
       "18.0         1\n",
       "34.0         1\n",
       "362.0        1\n",
       "1125.0       1\n",
       "45.0         1\n",
       "210.0        1\n",
       "150.0        1\n",
       "185.0        1\n",
       "170.0        1\n",
       "75.0         1\n",
       "62.0         1\n",
       "Name: Minimum Nights, dtype: int64"
      ]
     },
     "execution_count": 80,
     "metadata": {},
     "output_type": "execute_result"
    }
   ],
   "source": [
    "data_trn['Minimum Nights'].value_counts()"
   ]
  },
  {
   "cell_type": "code",
   "execution_count": 81,
   "metadata": {},
   "outputs": [
    {
     "data": {
      "text/plain": [
       "count    27659.000000\n",
       "mean         3.223942\n",
       "std         11.191955\n",
       "min          1.000000\n",
       "25%          1.000000\n",
       "50%          2.000000\n",
       "75%          3.000000\n",
       "max       1125.000000\n",
       "Name: Minimum Nights, dtype: float64"
      ]
     },
     "execution_count": 81,
     "metadata": {},
     "output_type": "execute_result"
    }
   ],
   "source": [
    "data_trn['Minimum Nights'].describe()"
   ]
  },
  {
   "cell_type": "code",
   "execution_count": 82,
   "metadata": {},
   "outputs": [],
   "source": [
    "data_trn['Minimum_Nights'] = np.where((data_trn['Minimum Nights'].isnull()),\n",
    "                                      2, data_trn['Minimum Nights'])\n",
    "\n",
    "data_trn.drop(['Minimum Nights'], axis = 1, inplace = True)"
   ]
  },
  {
   "cell_type": "code",
   "execution_count": 83,
   "metadata": {},
   "outputs": [
    {
     "data": {
      "text/plain": [
       "1125.0    18698\n",
       "30.0       1332\n",
       "365.0       941\n",
       "7.0         598\n",
       "15.0        579\n",
       "          ...  \n",
       "39.0          1\n",
       "1059.0        1\n",
       "197.0         1\n",
       "619.0         1\n",
       "295.0         1\n",
       "Name: Maximum Nights, Length: 232, dtype: int64"
      ]
     },
     "execution_count": 83,
     "metadata": {},
     "output_type": "execute_result"
    }
   ],
   "source": [
    "data_trn['Maximum Nights'].value_counts()"
   ]
  },
  {
   "cell_type": "code",
   "execution_count": 84,
   "metadata": {},
   "outputs": [
    {
     "data": {
      "text/plain": [
       "count    2.765900e+04\n",
       "mean     2.374298e+05\n",
       "std      2.237240e+07\n",
       "min      1.000000e+00\n",
       "25%      1.200000e+02\n",
       "50%      1.125000e+03\n",
       "75%      1.125000e+03\n",
       "max      2.147484e+09\n",
       "Name: Maximum Nights, dtype: float64"
      ]
     },
     "execution_count": 84,
     "metadata": {},
     "output_type": "execute_result"
    }
   ],
   "source": [
    "data_trn['Maximum Nights'].describe()"
   ]
  },
  {
   "cell_type": "code",
   "execution_count": 85,
   "metadata": {},
   "outputs": [],
   "source": [
    "data_trn['Maximum_Nights'] = np.where((data_trn['Maximum Nights'].isnull()),\n",
    "                                      1125, data_trn['Maximum Nights'])\n",
    "\n",
    "data_trn.drop(['Maximum Nights'], axis = 1, inplace = True)"
   ]
  },
  {
   "cell_type": "code",
   "execution_count": 86,
   "metadata": {},
   "outputs": [
    {
     "data": {
      "text/plain": [
       "HB-004584       10\n",
       "AJ000622         8\n",
       "HB-004721-81     8\n",
       "AJ-000588        7\n",
       "0289599-0        7\n",
       "                ..\n",
       "HUB-008752       1\n",
       "HUT-000924       1\n",
       "HUTB-004804      1\n",
       "VT-724           1\n",
       "HUTB-002802      1\n",
       "Name: License, Length: 3359, dtype: int64"
      ]
     },
     "execution_count": 86,
     "metadata": {},
     "output_type": "execute_result"
    }
   ],
   "source": [
    "data_trn['License'].value_counts()"
   ]
  },
  {
   "cell_type": "code",
   "execution_count": 87,
   "metadata": {},
   "outputs": [
    {
     "data": {
      "text/plain": [
       "count          3603\n",
       "unique         3359\n",
       "top       HB-004584\n",
       "freq             10\n",
       "Name: License, dtype: object"
      ]
     },
     "execution_count": 87,
     "metadata": {},
     "output_type": "execute_result"
    }
   ],
   "source": [
    "data_trn['License'].describe()"
   ]
  },
  {
   "cell_type": "code",
   "execution_count": 88,
   "metadata": {},
   "outputs": [],
   "source": [
    "data_trn['License'] = np.where((data_trn['License'].isnull()),\n",
    "                               0, data_trn['License'])\n",
    "data_trn['License'] = np.where((data_trn['License'] != 0),\n",
    "                               1, data_trn['License'])"
   ]
  },
  {
   "cell_type": "code",
   "execution_count": 89,
   "metadata": {},
   "outputs": [
    {
     "data": {
      "text/plain": [
       "0    24056\n",
       "1     3603\n",
       "Name: License, dtype: int64"
      ]
     },
     "execution_count": 89,
     "metadata": {},
     "output_type": "execute_result"
    }
   ],
   "source": [
    "data_trn['License'].value_counts()"
   ]
  },
  {
   "cell_type": "code",
   "execution_count": 90,
   "metadata": {},
   "outputs": [
    {
     "data": {
      "text/plain": [
       "count     27659\n",
       "unique        2\n",
       "top           0\n",
       "freq      24056\n",
       "Name: License, dtype: int64"
      ]
     },
     "execution_count": 90,
     "metadata": {},
     "output_type": "execute_result"
    }
   ],
   "source": [
    "data_trn['License'].describe()"
   ]
  },
  {
   "cell_type": "code",
   "execution_count": 91,
   "metadata": {},
   "outputs": [
    {
     "data": {
      "text/plain": [
       "strict             11932\n",
       "flexible            7986\n",
       "moderate            7576\n",
       "super_strict_30      148\n",
       "super_strict_60       17\n",
       "Name: Cancellation Policy, dtype: int64"
      ]
     },
     "execution_count": 91,
     "metadata": {},
     "output_type": "execute_result"
    }
   ],
   "source": [
    "data_trn['Cancellation Policy'].value_counts()"
   ]
  },
  {
   "cell_type": "code",
   "execution_count": 92,
   "metadata": {},
   "outputs": [],
   "source": [
    "cp_d = {'super_strict_60': 0, 'super_strict_30': 1, 'moderate': 2, 'flexible': 3, 'strict': 4}"
   ]
  },
  {
   "cell_type": "code",
   "execution_count": 93,
   "metadata": {},
   "outputs": [],
   "source": [
    "data_trn['Cancellation_Policy'] = data_trn['Cancellation Policy'].map(cp_d)\n",
    "\n",
    "data_trn['Cancellation_Policy'] = np.where((data_trn['Cancellation_Policy'].isnull()),\n",
    "                                           0, data_trn['Cancellation_Policy'])\n",
    "\n",
    "data_trn.drop(['Cancellation Policy'], axis = 1, inplace = True)"
   ]
  },
  {
   "cell_type": "code",
   "execution_count": 94,
   "metadata": {},
   "outputs": [
    {
     "data": {
      "text/plain": [
       "4    11932\n",
       "3     7986\n",
       "2     7576\n",
       "1      148\n",
       "0       17\n",
       "Name: Cancellation_Policy, dtype: int64"
      ]
     },
     "execution_count": 94,
     "metadata": {},
     "output_type": "execute_result"
    }
   ],
   "source": [
    "data_trn['Cancellation_Policy'].value_counts()"
   ]
  },
  {
   "cell_type": "code",
   "execution_count": 95,
   "metadata": {},
   "outputs": [
    {
     "data": {
      "text/plain": [
       "count    27659.000000\n",
       "mean         3.144944\n",
       "std          0.843360\n",
       "min          0.000000\n",
       "25%          2.000000\n",
       "50%          3.000000\n",
       "75%          4.000000\n",
       "max          4.000000\n",
       "Name: Cancellation_Policy, dtype: float64"
      ]
     },
     "execution_count": 95,
     "metadata": {},
     "output_type": "execute_result"
    }
   ],
   "source": [
    "data_trn['Cancellation_Policy'].describe()"
   ]
  },
  {
   "cell_type": "code",
   "execution_count": 96,
   "metadata": {},
   "outputs": [
    {
     "data": {
      "text/plain": [
       "1.00    426\n",
       "0.10    222\n",
       "2.00    203\n",
       "0.19    194\n",
       "0.31    193\n",
       "       ... \n",
       "6.44      1\n",
       "7.03      1\n",
       "7.84      1\n",
       "8.43      1\n",
       "7.91      1\n",
       "Name: Reviews per Month, Length: 854, dtype: int64"
      ]
     },
     "execution_count": 96,
     "metadata": {},
     "output_type": "execute_result"
    }
   ],
   "source": [
    "data_trn['Reviews per Month'].value_counts()"
   ]
  },
  {
   "cell_type": "code",
   "execution_count": 97,
   "metadata": {},
   "outputs": [
    {
     "data": {
      "text/plain": [
       "count    22149.000000\n",
       "mean         1.703334\n",
       "std          1.654465\n",
       "min          0.020000\n",
       "25%          0.450000\n",
       "50%          1.130000\n",
       "75%          2.470000\n",
       "max         17.210000\n",
       "Name: Reviews per Month, dtype: float64"
      ]
     },
     "execution_count": 97,
     "metadata": {},
     "output_type": "execute_result"
    }
   ],
   "source": [
    "data_trn['Reviews per Month'].describe()"
   ]
  },
  {
   "cell_type": "code",
   "execution_count": 98,
   "metadata": {},
   "outputs": [],
   "source": [
    "data_trn['Reviews_per_Month'] = np.where((data_trn['Reviews per Month'].isnull()), \n",
    "                                         0.0, data_trn['Reviews per Month'])\n",
    "\n",
    "data_trn.drop(['Reviews per Month'], axis = 1, inplace = True)"
   ]
  },
  {
   "cell_type": "code",
   "execution_count": 99,
   "metadata": {},
   "outputs": [
    {
     "data": {
      "text/html": [
       "<div>\n",
       "<style scoped>\n",
       "    .dataframe tbody tr th:only-of-type {\n",
       "        vertical-align: middle;\n",
       "    }\n",
       "\n",
       "    .dataframe tbody tr th {\n",
       "        vertical-align: top;\n",
       "    }\n",
       "\n",
       "    .dataframe thead th {\n",
       "        text-align: right;\n",
       "    }\n",
       "</style>\n",
       "<table border=\"1\" class=\"dataframe\">\n",
       "  <thead>\n",
       "    <tr style=\"text-align: right;\">\n",
       "      <th></th>\n",
       "      <th>count</th>\n",
       "      <th>mean</th>\n",
       "      <th>std</th>\n",
       "      <th>min</th>\n",
       "      <th>25%</th>\n",
       "      <th>50%</th>\n",
       "      <th>75%</th>\n",
       "      <th>max</th>\n",
       "    </tr>\n",
       "  </thead>\n",
       "  <tbody>\n",
       "    <tr>\n",
       "      <th>Accommodates</th>\n",
       "      <td>27659.0</td>\n",
       "      <td>3.303120</td>\n",
       "      <td>2.126135e+00</td>\n",
       "      <td>1.0</td>\n",
       "      <td>2.00</td>\n",
       "      <td>2.00</td>\n",
       "      <td>4.00</td>\n",
       "      <td>1.600000e+01</td>\n",
       "    </tr>\n",
       "    <tr>\n",
       "      <th>Bathrooms</th>\n",
       "      <td>27659.0</td>\n",
       "      <td>1.269153</td>\n",
       "      <td>5.839726e-01</td>\n",
       "      <td>0.0</td>\n",
       "      <td>1.00</td>\n",
       "      <td>1.00</td>\n",
       "      <td>1.50</td>\n",
       "      <td>8.000000e+00</td>\n",
       "    </tr>\n",
       "    <tr>\n",
       "      <th>Bedrooms</th>\n",
       "      <td>27659.0</td>\n",
       "      <td>1.421237</td>\n",
       "      <td>9.068872e-01</td>\n",
       "      <td>0.0</td>\n",
       "      <td>1.00</td>\n",
       "      <td>1.00</td>\n",
       "      <td>2.00</td>\n",
       "      <td>1.000000e+01</td>\n",
       "    </tr>\n",
       "    <tr>\n",
       "      <th>Beds</th>\n",
       "      <td>27659.0</td>\n",
       "      <td>2.115586</td>\n",
       "      <td>1.694225e+00</td>\n",
       "      <td>0.0</td>\n",
       "      <td>1.00</td>\n",
       "      <td>2.00</td>\n",
       "      <td>3.00</td>\n",
       "      <td>1.600000e+01</td>\n",
       "    </tr>\n",
       "    <tr>\n",
       "      <th>Amenities</th>\n",
       "      <td>27659.0</td>\n",
       "      <td>13.763838</td>\n",
       "      <td>4.750699e+00</td>\n",
       "      <td>0.0</td>\n",
       "      <td>11.00</td>\n",
       "      <td>14.00</td>\n",
       "      <td>17.00</td>\n",
       "      <td>3.900000e+01</td>\n",
       "    </tr>\n",
       "    <tr>\n",
       "      <th>Price</th>\n",
       "      <td>27659.0</td>\n",
       "      <td>78.347012</td>\n",
       "      <td>7.476901e+01</td>\n",
       "      <td>9.0</td>\n",
       "      <td>35.00</td>\n",
       "      <td>59.00</td>\n",
       "      <td>95.00</td>\n",
       "      <td>9.990000e+02</td>\n",
       "    </tr>\n",
       "    <tr>\n",
       "      <th>Neighbourhood</th>\n",
       "      <td>27659.0</td>\n",
       "      <td>126.115297</td>\n",
       "      <td>5.289931e+01</td>\n",
       "      <td>0.0</td>\n",
       "      <td>81.00</td>\n",
       "      <td>139.00</td>\n",
       "      <td>171.00</td>\n",
       "      <td>1.970000e+02</td>\n",
       "    </tr>\n",
       "    <tr>\n",
       "      <th>Neighbourhood_Group</th>\n",
       "      <td>27659.0</td>\n",
       "      <td>26.206334</td>\n",
       "      <td>6.104667e+00</td>\n",
       "      <td>1.0</td>\n",
       "      <td>24.00</td>\n",
       "      <td>29.00</td>\n",
       "      <td>30.00</td>\n",
       "      <td>3.100000e+01</td>\n",
       "    </tr>\n",
       "    <tr>\n",
       "      <th>Property_Type</th>\n",
       "      <td>27659.0</td>\n",
       "      <td>12.504971</td>\n",
       "      <td>1.806578e+00</td>\n",
       "      <td>0.0</td>\n",
       "      <td>13.00</td>\n",
       "      <td>13.00</td>\n",
       "      <td>13.00</td>\n",
       "      <td>1.300000e+01</td>\n",
       "    </tr>\n",
       "    <tr>\n",
       "      <th>Room_Type</th>\n",
       "      <td>27659.0</td>\n",
       "      <td>1.529846</td>\n",
       "      <td>5.231675e-01</td>\n",
       "      <td>0.0</td>\n",
       "      <td>1.00</td>\n",
       "      <td>2.00</td>\n",
       "      <td>2.00</td>\n",
       "      <td>2.000000e+00</td>\n",
       "    </tr>\n",
       "    <tr>\n",
       "      <th>Bed_Type</th>\n",
       "      <td>27659.0</td>\n",
       "      <td>3.975993</td>\n",
       "      <td>2.024919e-01</td>\n",
       "      <td>0.0</td>\n",
       "      <td>4.00</td>\n",
       "      <td>4.00</td>\n",
       "      <td>4.00</td>\n",
       "      <td>4.000000e+00</td>\n",
       "    </tr>\n",
       "    <tr>\n",
       "      <th>Security_Deposit</th>\n",
       "      <td>27659.0</td>\n",
       "      <td>93.048375</td>\n",
       "      <td>1.279994e+02</td>\n",
       "      <td>0.0</td>\n",
       "      <td>0.00</td>\n",
       "      <td>0.00</td>\n",
       "      <td>150.00</td>\n",
       "      <td>9.900000e+02</td>\n",
       "    </tr>\n",
       "    <tr>\n",
       "      <th>Cleaning_Fee</th>\n",
       "      <td>27659.0</td>\n",
       "      <td>21.945551</td>\n",
       "      <td>2.880614e+01</td>\n",
       "      <td>0.0</td>\n",
       "      <td>0.00</td>\n",
       "      <td>15.00</td>\n",
       "      <td>30.00</td>\n",
       "      <td>5.000000e+02</td>\n",
       "    </tr>\n",
       "    <tr>\n",
       "      <th>Guests_Included</th>\n",
       "      <td>27659.0</td>\n",
       "      <td>1.618388</td>\n",
       "      <td>1.204114e+00</td>\n",
       "      <td>1.0</td>\n",
       "      <td>1.00</td>\n",
       "      <td>1.00</td>\n",
       "      <td>2.00</td>\n",
       "      <td>1.600000e+01</td>\n",
       "    </tr>\n",
       "    <tr>\n",
       "      <th>Extra_People</th>\n",
       "      <td>27659.0</td>\n",
       "      <td>8.346976</td>\n",
       "      <td>1.197068e+01</td>\n",
       "      <td>0.0</td>\n",
       "      <td>0.00</td>\n",
       "      <td>0.00</td>\n",
       "      <td>15.00</td>\n",
       "      <td>2.840000e+02</td>\n",
       "    </tr>\n",
       "    <tr>\n",
       "      <th>Minimum_Nights</th>\n",
       "      <td>27659.0</td>\n",
       "      <td>3.223942</td>\n",
       "      <td>1.119195e+01</td>\n",
       "      <td>1.0</td>\n",
       "      <td>1.00</td>\n",
       "      <td>2.00</td>\n",
       "      <td>3.00</td>\n",
       "      <td>1.125000e+03</td>\n",
       "    </tr>\n",
       "    <tr>\n",
       "      <th>Maximum_Nights</th>\n",
       "      <td>27659.0</td>\n",
       "      <td>237429.811345</td>\n",
       "      <td>2.237240e+07</td>\n",
       "      <td>1.0</td>\n",
       "      <td>120.00</td>\n",
       "      <td>1125.00</td>\n",
       "      <td>1125.00</td>\n",
       "      <td>2.147484e+09</td>\n",
       "    </tr>\n",
       "    <tr>\n",
       "      <th>Cancellation_Policy</th>\n",
       "      <td>27659.0</td>\n",
       "      <td>3.144944</td>\n",
       "      <td>8.433600e-01</td>\n",
       "      <td>0.0</td>\n",
       "      <td>2.00</td>\n",
       "      <td>3.00</td>\n",
       "      <td>4.00</td>\n",
       "      <td>4.000000e+00</td>\n",
       "    </tr>\n",
       "    <tr>\n",
       "      <th>Reviews_per_Month</th>\n",
       "      <td>27659.0</td>\n",
       "      <td>1.364010</td>\n",
       "      <td>1.629356e+00</td>\n",
       "      <td>0.0</td>\n",
       "      <td>0.12</td>\n",
       "      <td>0.77</td>\n",
       "      <td>2.05</td>\n",
       "      <td>1.721000e+01</td>\n",
       "    </tr>\n",
       "  </tbody>\n",
       "</table>\n",
       "</div>"
      ],
      "text/plain": [
       "                       count           mean           std  min     25%  \\\n",
       "Accommodates         27659.0       3.303120  2.126135e+00  1.0    2.00   \n",
       "Bathrooms            27659.0       1.269153  5.839726e-01  0.0    1.00   \n",
       "Bedrooms             27659.0       1.421237  9.068872e-01  0.0    1.00   \n",
       "Beds                 27659.0       2.115586  1.694225e+00  0.0    1.00   \n",
       "Amenities            27659.0      13.763838  4.750699e+00  0.0   11.00   \n",
       "Price                27659.0      78.347012  7.476901e+01  9.0   35.00   \n",
       "Neighbourhood        27659.0     126.115297  5.289931e+01  0.0   81.00   \n",
       "Neighbourhood_Group  27659.0      26.206334  6.104667e+00  1.0   24.00   \n",
       "Property_Type        27659.0      12.504971  1.806578e+00  0.0   13.00   \n",
       "Room_Type            27659.0       1.529846  5.231675e-01  0.0    1.00   \n",
       "Bed_Type             27659.0       3.975993  2.024919e-01  0.0    4.00   \n",
       "Security_Deposit     27659.0      93.048375  1.279994e+02  0.0    0.00   \n",
       "Cleaning_Fee         27659.0      21.945551  2.880614e+01  0.0    0.00   \n",
       "Guests_Included      27659.0       1.618388  1.204114e+00  1.0    1.00   \n",
       "Extra_People         27659.0       8.346976  1.197068e+01  0.0    0.00   \n",
       "Minimum_Nights       27659.0       3.223942  1.119195e+01  1.0    1.00   \n",
       "Maximum_Nights       27659.0  237429.811345  2.237240e+07  1.0  120.00   \n",
       "Cancellation_Policy  27659.0       3.144944  8.433600e-01  0.0    2.00   \n",
       "Reviews_per_Month    27659.0       1.364010  1.629356e+00  0.0    0.12   \n",
       "\n",
       "                         50%      75%           max  \n",
       "Accommodates            2.00     4.00  1.600000e+01  \n",
       "Bathrooms               1.00     1.50  8.000000e+00  \n",
       "Bedrooms                1.00     2.00  1.000000e+01  \n",
       "Beds                    2.00     3.00  1.600000e+01  \n",
       "Amenities              14.00    17.00  3.900000e+01  \n",
       "Price                  59.00    95.00  9.990000e+02  \n",
       "Neighbourhood         139.00   171.00  1.970000e+02  \n",
       "Neighbourhood_Group    29.00    30.00  3.100000e+01  \n",
       "Property_Type          13.00    13.00  1.300000e+01  \n",
       "Room_Type               2.00     2.00  2.000000e+00  \n",
       "Bed_Type                4.00     4.00  4.000000e+00  \n",
       "Security_Deposit        0.00   150.00  9.900000e+02  \n",
       "Cleaning_Fee           15.00    30.00  5.000000e+02  \n",
       "Guests_Included         1.00     2.00  1.600000e+01  \n",
       "Extra_People            0.00    15.00  2.840000e+02  \n",
       "Minimum_Nights          2.00     3.00  1.125000e+03  \n",
       "Maximum_Nights       1125.00  1125.00  2.147484e+09  \n",
       "Cancellation_Policy     3.00     4.00  4.000000e+00  \n",
       "Reviews_per_Month       0.77     2.05  1.721000e+01  "
      ]
     },
     "execution_count": 99,
     "metadata": {},
     "output_type": "execute_result"
    }
   ],
   "source": [
    "data_trn.describe().T"
   ]
  },
  {
   "cell_type": "code",
   "execution_count": 100,
   "metadata": {},
   "outputs": [],
   "source": [
    "data_trn = data_trn[['City', 'License', 'Neighbourhood_Group', 'Neighbourhood',\n",
    "                     'Property_Type', 'Room_Type', 'Accommodates',\n",
    "                     'Guests_Included', 'Minimum_Nights', 'Maximum_Nights',\n",
    "                     'Cancellation_Policy', 'Bedrooms', 'Beds', 'Bed_Type',\n",
    "                     'Bathrooms', 'Amenities', 'Extra_People', 'Security_Deposit', \n",
    "                     'Cleaning_Fee', 'Price', 'Reviews_per_Month']]"
   ]
  },
  {
   "cell_type": "code",
   "execution_count": 101,
   "metadata": {},
   "outputs": [
    {
     "data": {
      "image/png": "[encoded data removed]",
      "text/plain": [
       "<Figure size 864x720 with 2 Axes>"
      ]
     },
     "metadata": {
      "needs_background": "light"
     },
     "output_type": "display_data"
    }
   ],
   "source": [
    "import seaborn as sns\n",
    "\n",
    "corr = np.abs(data_trn.drop(['Price', 'Reviews_per_Month'], axis = 1).corr())\n",
    "\n",
    "mask = np.zeros_like(corr, dtype = np.bool)\n",
    "mask[np.triu_indices_from(mask)] = True\n",
    "\n",
    "f, ax = plt.subplots(figsize = (12, 10))\n",
    "\n",
    "sns.heatmap(corr, mask = mask, vmin = 0.0, vmax = 1.0, center = 0.5, \n",
    "            linewidths = .1, cmap = \"Oranges\", cbar_kws = {\"shrink\": .8})\n",
    "\n",
    "plt.show()"
   ]
  },
  {
   "cell_type": "code",
   "execution_count": 102,
   "metadata": {},
   "outputs": [],
   "source": [
    "data_trn.drop(['Beds', 'Bedrooms'], axis = 1, inplace = True)"
   ]
  },
  {
   "cell_type": "code",
   "execution_count": 103,
   "metadata": {
    "scrolled": false
   },
   "outputs": [
    {
     "data": {
      "image/png": "[encoded data removed]",
      "text/plain": [
       "<Figure size 1440x1800 with 15 Axes>"
      ]
     },
     "metadata": {
      "needs_background": "light"
     },
     "output_type": "display_data"
    }
   ],
   "source": [
    "plt.figure(figsize = (20, 25))\n",
    "\n",
    "for i, feature in enumerate(data_trn.columns.drop(['City', 'License', 'Price', 'Reviews_per_Month'])):\n",
    "    plt.subplot(5, 3, i+1) \n",
    "\n",
    "    data_trn[feature].plot.hist(alpha = 0.8, color = 'purple', bins = 30, grid = True)\n",
    "\n",
    "    plt.axis([0, np.max(data_trn[feature]), 0, 10000])\n",
    "    plt.xlabel(feature)\n",
    "    plt.ylabel(\"\")\n",
    "\n",
    "plt.show()"
   ]
  },
  {
   "cell_type": "code",
   "execution_count": 104,
   "metadata": {
    "scrolled": false
   },
   "outputs": [
    {
     "data": {
      "image/png": "[encoded data removed]",
      "text/plain": [
       "<Figure size 432x288 with 1 Axes>"
      ]
     },
     "metadata": {
      "needs_background": "light"
     },
     "output_type": "display_data"
    },
    {
     "data": {
      "image/png": "[encoded data removed]",
      "text/plain": [
       "<Figure size 432x288 with 1 Axes>"
      ]
     },
     "metadata": {
      "needs_background": "light"
     },
     "output_type": "display_data"
    },
    {
     "data": {
      "image/png": "[encoded data removed]",
      "text/plain": [
       "<Figure size 432x288 with 1 Axes>"
      ]
     },
     "metadata": {
      "needs_background": "light"
     },
     "output_type": "display_data"
    },
    {
     "data": {
      "image/png": "[encoded data removed]",
      "text/plain": [
       "<Figure size 432x288 with 1 Axes>"
      ]
     },
     "metadata": {
      "needs_background": "light"
     },
     "output_type": "display_data"
    },
    {
     "data": {
      "image/png": "[encoded data removed]",
      "text/plain": [
       "<Figure size 432x288 with 1 Axes>"
      ]
     },
     "metadata": {
      "needs_background": "light"
     },
     "output_type": "display_data"
    },
    {
     "data": {
      "image/png": "[encoded data removed]",
      "text/plain": [
       "<Figure size 432x288 with 1 Axes>"
      ]
     },
     "metadata": {
      "needs_background": "light"
     },
     "output_type": "display_data"
    },
    {
     "data": {
      "image/png": "[encoded data removed]",
      "text/plain": [
       "<Figure size 432x288 with 1 Axes>"
      ]
     },
     "metadata": {
      "needs_background": "light"
     },
     "output_type": "display_data"
    },
    {
     "data": {
      "image/png": "[encoded data removed]",
      "text/plain": [
       "<Figure size 432x288 with 1 Axes>"
      ]
     },
     "metadata": {
      "needs_background": "light"
     },
     "output_type": "display_data"
    },
    {
     "data": {
      "image/png": "[encoded data removed]",
      "text/plain": [
       "<Figure size 432x288 with 1 Axes>"
      ]
     },
     "metadata": {
      "needs_background": "light"
     },
     "output_type": "display_data"
    },
    {
     "data": {
      "image/png": "[encoded data removed]",
      "text/plain": [
       "<Figure size 432x288 with 1 Axes>"
      ]
     },
     "metadata": {
      "needs_background": "light"
     },
     "output_type": "display_data"
    },
    {
     "data": {
      "image/png": "[encoded data removed]",
      "text/plain": [
       "<Figure size 432x288 with 1 Axes>"
      ]
     },
     "metadata": {
      "needs_background": "light"
     },
     "output_type": "display_data"
    },
    {
     "data": {
      "image/png": "[encoded data removed]",
      "text/plain": [
       "<Figure size 432x288 with 1 Axes>"
      ]
     },
     "metadata": {
      "needs_background": "light"
     },
     "output_type": "display_data"
    },
    {
     "data": {
      "image/png": "[encoded data removed]",
      "text/plain": [
       "<Figure size 432x288 with 1 Axes>"
      ]
     },
     "metadata": {
      "needs_background": "light"
     },
     "output_type": "display_data"
    },
    {
     "data": {
      "image/png": "[encoded data removed]",
      "text/plain": [
       "<Figure size 432x288 with 1 Axes>"
      ]
     },
     "metadata": {
      "needs_background": "light"
     },
     "output_type": "display_data"
    },
    {
     "data": {
      "image/png": "[encoded data removed]",
      "text/plain": [
       "<Figure size 432x288 with 1 Axes>"
      ]
     },
     "metadata": {
      "needs_background": "light"
     },
     "output_type": "display_data"
    }
   ],
   "source": [
    "for i, feature in enumerate(data_trn.columns.drop(['City', 'License', 'Price', 'Reviews_per_Month'])):\n",
    "    data_trn.plot(kind = 'scatter', alpha = 0.8, color = 'purple', x = feature, y = 'Price')\n",
    "    \n",
    "    plt.xlabel(feature)\n",
    "    plt.ylabel(\"Price\")\n",
    "\n",
    "plt.show()"
   ]
  },
  {
   "cell_type": "code",
   "execution_count": 105,
   "metadata": {},
   "outputs": [
    {
     "data": {
      "image/png": "[encoded data removed]",
      "text/plain": [
       "<Figure size 576x360 with 1 Axes>"
      ]
     },
     "metadata": {
      "needs_background": "light"
     },
     "output_type": "display_data"
    }
   ],
   "source": [
    "plt.figure(figsize = (8, 5))\n",
    "\n",
    "data_trn['Price'].plot.hist(alpha = 0.8, color = 'green',\n",
    "                            bins = 30, grid = True)\n",
    "\n",
    "plt.axis([0, 600, 0, 10000])\n",
    "plt.xlabel('Price')\n",
    "plt.ylabel(\"\")\n",
    "plt.show()"
   ]
  },
  {
   "cell_type": "code",
   "execution_count": 106,
   "metadata": {},
   "outputs": [],
   "source": [
    "data_trn['Range Prices'] = np.where((data_trn['Price'] <= 50),\n",
    "                                    25, data_trn['Price'])\n",
    "data_trn['Range Prices'] = np.where((data_trn['Range Prices'] > 50)\n",
    "                                    & (data_trn['Range Prices'] <= 100),\n",
    "                                    75, data_trn['Range Prices'])\n",
    "data_trn['Range Prices'] = np.where((data_trn['Range Prices'] > 100)\n",
    "                                    & (data_trn['Range Prices'] <= 150),\n",
    "                                    125, data_trn['Range Prices'])\n",
    "data_trn['Range Prices'] = np.where((data_trn['Range Prices'] > 150)\n",
    "                                    & (data_trn['Range Prices'] <= 200),\n",
    "                                    175, data_trn['Range Prices'])\n",
    "data_trn['Range Prices'] = np.where((data_trn['Range Prices'] > 200)\n",
    "                                    & (data_trn['Range Prices'] <= 250),\n",
    "                                    225, data_trn['Range Prices'])\n",
    "data_trn['Range Prices'] = np.where((data_trn['Range Prices'] > 250) \n",
    "                                    & (data_trn['Range Prices'] <= 300),\n",
    "                                    275, data_trn['Range Prices'])\n",
    "data_trn['Range Prices'] = np.where((data_trn['Range Prices'] > 300) \n",
    "                                    & (data_trn['Range Prices'] <= 350),\n",
    "                                    325, data_trn['Range Prices'])\n",
    "data_trn['Range Prices'] = np.where((data_trn['Range Prices'] > 350)\n",
    "                                    & (data_trn['Range Prices'] <= 400),\n",
    "                                    375, data_trn['Range Prices'])\n",
    "data_trn['Range Prices'] = np.where((data_trn['Range Prices'] > 400) \n",
    "                                    & (data_trn['Range Prices'] <= 450),\n",
    "                                    425, data_trn['Range Prices'])\n",
    "data_trn['Range Prices'] = np.where((data_trn['Range Prices'] > 450)\n",
    "                                    & (data_trn['Range Prices'] <= 500),\n",
    "                                    475, data_trn['Range Prices'])\n",
    "data_trn['Range Prices'] = np.where((data_trn['Range Prices'] > 500)\n",
    "                                    & (data_trn['Range Prices'] <= 550),\n",
    "                                    525, data_trn['Range Prices'])\n",
    "data_trn['Range Prices'] = np.where((data_trn['Range Prices'] > 550),\n",
    "                                    575, data_trn['Range Prices'])\n",
    "\n",
    "rp_d = {25.0: 1, 75.0: 2, 125.0: 3, 175.0: 4,\n",
    "        225.0: 5, 275.0: 6, 325.0: 7, 375.0: 8,\n",
    "        425.0: 9, 475.0: 10, 525.0: 11, 575.0: 12}\n",
    "\n",
    "data_trn['Range_Prices'] = data_trn['Range Prices'].map(rp_d)\n",
    "\n",
    "data_trn.drop(['Range Prices'], axis = 1, inplace = True)"
   ]
  },
  {
   "cell_type": "code",
   "execution_count": 107,
   "metadata": {},
   "outputs": [
    {
     "data": {
      "text/plain": [
       "1     12595\n",
       "2      9447\n",
       "3      3126\n",
       "4      1188\n",
       "5       493\n",
       "6       322\n",
       "7       152\n",
       "8       102\n",
       "12       92\n",
       "10       71\n",
       "9        49\n",
       "11       22\n",
       "Name: Range_Prices, dtype: int64"
      ]
     },
     "execution_count": 107,
     "metadata": {},
     "output_type": "execute_result"
    }
   ],
   "source": [
    "data_trn['Range_Prices'].value_counts()"
   ]
  },
  {
   "cell_type": "code",
   "execution_count": 108,
   "metadata": {},
   "outputs": [
    {
     "data": {
      "text/plain": [
       "count    27659.000000\n",
       "mean         1.966557\n",
       "std          1.415671\n",
       "min          1.000000\n",
       "25%          1.000000\n",
       "50%          2.000000\n",
       "75%          2.000000\n",
       "max         12.000000\n",
       "Name: Range_Prices, dtype: float64"
      ]
     },
     "execution_count": 108,
     "metadata": {},
     "output_type": "execute_result"
    }
   ],
   "source": [
    "data_trn['Range_Prices'].describe()"
   ]
  },
  {
   "cell_type": "code",
   "execution_count": 109,
   "metadata": {},
   "outputs": [],
   "source": [
    "r_d = {1: 'hasta 50€', 2: 'entre 50~100€', 3: 'entre 100~150€',\n",
    "       4: 'entre 150~200€', 5: 'entre 200~250€', 6: 'entre 250~300€',\n",
    "       7: 'entre 300~350€', 8: 'entre 350~400€', 9: 'entre 400~450€',\n",
    "       10: 'entre 450~500€', 11: 'entre 500~550€', 12: 'más de 550€'}\n",
    "\n",
    "data_trn['Ranges'] = data_trn['Range_Prices'].map(r_d)"
   ]
  },
  {
   "cell_type": "code",
   "execution_count": 110,
   "metadata": {},
   "outputs": [],
   "source": [
    "data_trn = data_trn[['City', 'License', 'Neighbourhood_Group', 'Neighbourhood',\n",
    "                     'Property_Type', 'Room_Type', 'Accommodates', 'Guests_Included',\n",
    "                     'Minimum_Nights', 'Maximum_Nights', 'Cancellation_Policy',\n",
    "                     'Bed_Type', 'Bathrooms', 'Amenities', 'Extra_People',\n",
    "                     'Security_Deposit', 'Cleaning_Fee', 'Range_Prices', 'Ranges',\n",
    "                     'Price', 'Reviews_per_Month']]"
   ]
  },
  {
   "cell_type": "code",
   "execution_count": 111,
   "metadata": {},
   "outputs": [],
   "source": [
    "data_trn.to_csv('./train_cleaned.csv', sep = ';', decimal = '.', index = False)"
   ]
  }
 ],
 "metadata": {
  "kernelspec": {
   "display_name": "Python 3",
   "language": "python",
   "name": "python3"
  },
  "language_info": {
   "codemirror_mode": {
    "name": "ipython",
    "version": 3
   },
   "file_extension": ".py",
   "mimetype": "text/x-python",
   "name": "python",
   "nbconvert_exporter": "python",
   "pygments_lexer": "ipython3",
   "version": "3.7.3"
  }
 },
 "nbformat": 4,
 "nbformat_minor": 2
}
