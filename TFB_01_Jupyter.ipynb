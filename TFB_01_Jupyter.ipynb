{
 "cells": [
  {
   "cell_type": "markdown",
   "metadata": {},
   "source": [
    "# **&nbsp;TRABAJO FINAL DEL BOOTCAMP IV BIG DATA & MACHINE LEARNING**\n",
    "\n",
    "                                           Alumno  Francisco Javier Gonzálvez Chico\n",
    "                                           Título  Recomendador de Precios para Anfitriones de AirBNB España\n",
    "\n",
    "\n",
    "### &nbsp;&nbsp;&nbsp;&nbsp;&nbsp;&nbsp;&nbsp;&nbsp;&nbsp;&nbsp;&nbsp;&nbsp;&nbsp;**CUADERNO DE TRABAJO 01**\n",
    "### &nbsp;&nbsp;&nbsp;&nbsp;&nbsp;&nbsp;&nbsp;&nbsp;&nbsp;&nbsp;&nbsp;&nbsp;&nbsp;**Carga y Selección Inicial de Columnas y Filas del Dataset de Trabajo**\n",
    "\n",
    "En los notebooks se codificarán las celdas con las que se procesarán las acciones sobre el dataset de trabajo y las ejecuciones de los modelos.\n",
    "No se comentarán ya que toda la documentación del trabajo se presentará en un documento Word en el que irá incluido este notebook.\n",
    "\n",
    " "
   ]
  },
  {
   "cell_type": "code",
   "execution_count": 1,
   "metadata": {},
   "outputs": [],
   "source": [
    "import numpy as np\n",
    "import pandas as pd\n",
    "\n",
    "import matplotlib.pyplot as plt\n",
    "from matplotlib.colors import ListedColormap\n",
    "%matplotlib inline\n",
    "\n",
    "cm = plt.cm.RdBu\n",
    "cm_bright = ListedColormap(['#FF0000', '#0000FF'])\n",
    "\n",
    "import warnings\n",
    "warnings.filterwarnings('ignore')"
   ]
  },
  {
   "cell_type": "code",
   "execution_count": 2,
   "metadata": {},
   "outputs": [
    {
     "name": "stdout",
     "output_type": "stream",
     "text": [
      "Tenemos un dataset con 494954 filas y 89 columnas\n"
     ]
    },
    {
     "data": {
      "text/plain": [
       "Index(['ID', 'Listing Url', 'Scrape ID', 'Last Scraped', 'Name', 'Summary',\n",
       "       'Space', 'Description', 'Experiences Offered', 'Neighborhood Overview',\n",
       "       'Notes', 'Transit', 'Access', 'Interaction', 'House Rules',\n",
       "       'Thumbnail Url', 'Medium Url', 'Picture Url', 'XL Picture Url',\n",
       "       'Host ID', 'Host URL', 'Host Name', 'Host Since', 'Host Location',\n",
       "       'Host About', 'Host Response Time', 'Host Response Rate',\n",
       "       'Host Acceptance Rate', 'Host Thumbnail Url', 'Host Picture Url',\n",
       "       'Host Neighbourhood', 'Host Listings Count',\n",
       "       'Host Total Listings Count', 'Host Verifications', 'Street',\n",
       "       'Neighbourhood', 'Neighbourhood Cleansed',\n",
       "       'Neighbourhood Group Cleansed', 'City', 'State', 'Zipcode', 'Market',\n",
       "       'Smart Location', 'Country Code', 'Country', 'Latitude', 'Longitude',\n",
       "       'Property Type', 'Room Type', 'Accommodates', 'Bathrooms', 'Bedrooms',\n",
       "       'Beds', 'Bed Type', 'Amenities', 'Square Feet', 'Price', 'Weekly Price',\n",
       "       'Monthly Price', 'Security Deposit', 'Cleaning Fee', 'Guests Included',\n",
       "       'Extra People', 'Minimum Nights', 'Maximum Nights', 'Calendar Updated',\n",
       "       'Has Availability', 'Availability 30', 'Availability 60',\n",
       "       'Availability 90', 'Availability 365', 'Calendar last Scraped',\n",
       "       'Number of Reviews', 'First Review', 'Last Review',\n",
       "       'Review Scores Rating', 'Review Scores Accuracy',\n",
       "       'Review Scores Cleanliness', 'Review Scores Checkin',\n",
       "       'Review Scores Communication', 'Review Scores Location',\n",
       "       'Review Scores Value', 'License', 'Jurisdiction Names',\n",
       "       'Cancellation Policy', 'Calculated host listings count',\n",
       "       'Reviews per Month', 'Geolocation', 'Features'],\n",
       "      dtype='object')"
      ]
     },
     "execution_count": 2,
     "metadata": {},
     "output_type": "execute_result"
    }
   ],
   "source": [
    "data = pd.read_csv('./airbnb-listings_completo.csv', sep = ';', decimal = '.')\n",
    "\n",
    "print(f\"Tenemos un dataset con {data.shape[0]} filas y {data.shape[1]} columnas\")\n",
    "\n",
    "data.columns"
   ]
  },
  {
   "cell_type": "code",
   "execution_count": 3,
   "metadata": {},
   "outputs": [
    {
     "name": "stdout",
     "output_type": "stream",
     "text": [
      "El dataset queda con 494954 filas y 26 columnas\n"
     ]
    },
    {
     "data": {
      "text/plain": [
       "Index(['Experiences Offered', 'Neighbourhood Cleansed',\n",
       "       'Neighbourhood Group Cleansed', 'City', 'Country Code', 'Property Type',\n",
       "       'Room Type', 'Accommodates', 'Bathrooms', 'Bedrooms', 'Beds',\n",
       "       'Bed Type', 'Amenities', 'Square Feet', 'Price', 'Weekly Price',\n",
       "       'Monthly Price', 'Security Deposit', 'Cleaning Fee', 'Guests Included',\n",
       "       'Extra People', 'Minimum Nights', 'Maximum Nights', 'License',\n",
       "       'Cancellation Policy', 'Reviews per Month'],\n",
       "      dtype='object')"
      ]
     },
     "execution_count": 3,
     "metadata": {},
     "output_type": "execute_result"
    }
   ],
   "source": [
    "data.drop(['ID', 'Listing Url', 'Scrape ID', 'Last Scraped', 'Name', 'Summary',\n",
    "           'Space', 'Description', 'Neighborhood Overview', 'Notes', 'Transit',\n",
    "           'Access', 'Interaction', 'House Rules', 'Thumbnail Url', 'Medium Url',\n",
    "           'Picture Url', 'XL Picture Url', 'Host ID', 'Host URL', 'Host Name',\n",
    "           'Host Since', 'Host Location', 'Host About', 'Host Response Time',\n",
    "           'Host Response Rate', 'Host Acceptance Rate', 'Host Thumbnail Url',\n",
    "           'Host Picture Url', 'Host Neighbourhood', 'Host Listings Count',\n",
    "           'Host Total Listings Count', 'Host Verifications', 'Street', \n",
    "           'Neighbourhood', 'State', 'Zipcode', 'Market', 'Smart Location',\n",
    "           'Country', 'Latitude', 'Longitude', 'Calendar Updated', \n",
    "           'Has Availability', 'Availability 30', 'Availability 60', \n",
    "           'Availability 90', 'Availability 365', 'Calendar last Scraped',\n",
    "           'Number of Reviews', 'First Review', 'Last Review', \n",
    "           'Review Scores Rating', 'Review Scores Accuracy', \n",
    "           'Review Scores Cleanliness', 'Review Scores Checkin',\n",
    "           'Review Scores Communication', 'Review Scores Location',\n",
    "           'Review Scores Value', 'Jurisdiction Names',\n",
    "           'Calculated host listings count', 'Geolocation', 'Features'], axis = 1,\n",
    "          inplace = True)\n",
    "\n",
    "print(f\"El dataset queda con {data.shape[0]} filas y {data.shape[1]} columnas\")\n",
    "\n",
    "data.columns"
   ]
  },
  {
   "cell_type": "code",
   "execution_count": 4,
   "metadata": {},
   "outputs": [
    {
     "name": "stdout",
     "output_type": "stream",
     "text": [
      "El dataset queda con 45844 filas y 25 columnas\n"
     ]
    }
   ],
   "source": [
    "data = data.drop(data[(data['Country Code'] != 'ES')].index)\n",
    "\n",
    "data.drop(['Country Code'], axis = 1, inplace = True)\n",
    "\n",
    "print(f\"El dataset queda con {data.shape[0]} filas y {data.shape[1]} columnas\")"
   ]
  },
  {
   "cell_type": "code",
   "execution_count": 5,
   "metadata": {},
   "outputs": [
    {
     "name": "stdout",
     "output_type": "stream",
     "text": [
      "El dataset queda con 30777 filas y 25 columnas\n"
     ]
    }
   ],
   "source": [
    "data = data.drop(data[(data['City'].isnull())].index)\n",
    "data = data[(data['City'].str.contains('arcel')) | (data['City'].str.contains('ARCEL'))\n",
    "            | (data['City'].str.contains('adr')) | (data['City'].str.contains('ADR'))]\n",
    "\n",
    "print(f\"El dataset queda con {data.shape[0]} filas y {data.shape[1]} columnas\")"
   ]
  },
  {
   "cell_type": "code",
   "execution_count": 6,
   "metadata": {},
   "outputs": [],
   "source": [
    "data.to_csv('./data_filtrado.csv', sep = ';', decimal = '.', index = False)"
   ]
  }
 ],
 "metadata": {
  "kernelspec": {
   "display_name": "Python 3",
   "language": "python",
   "name": "python3"
  },
  "language_info": {
   "codemirror_mode": {
    "name": "ipython",
    "version": 3
   },
   "file_extension": ".py",
   "mimetype": "text/x-python",
   "name": "python",
   "nbconvert_exporter": "python",
   "pygments_lexer": "ipython3",
   "version": "3.7.3"
  }
 },
 "nbformat": 4,
 "nbformat_minor": 2
}
