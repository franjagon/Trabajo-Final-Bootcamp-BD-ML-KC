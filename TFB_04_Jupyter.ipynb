{
 "cells": [
  {
   "cell_type": "markdown",
   "metadata": {},
   "source": [
    "# **&nbsp;TRABAJO FINAL DEL BOOTCAMP IV BIG DATA & MACHINE LEARNING**\n",
    "\n",
    "                                           Alumno  Francisco Javier Gonzálvez Chico\n",
    "                                           Título  Recomendador de Precios para Anfitriones de AirBNB España\n",
    "\n",
    "\n",
    "### &nbsp;&nbsp;&nbsp;&nbsp;&nbsp;&nbsp;&nbsp;&nbsp;&nbsp;&nbsp;&nbsp;&nbsp;&nbsp;**CUADERNO DE TRABAJO 04**\n",
    "### &nbsp;&nbsp;&nbsp;&nbsp;&nbsp;&nbsp;&nbsp;&nbsp;&nbsp;&nbsp;&nbsp;&nbsp;&nbsp;**Modelos Machine Learning para Clasificación. Selección del Modelo y Portabilidad.**\n",
    "\n",
    "En los notebooks se codificarán las celdas con las que se procesarán las acciones sobre el dataset de trabajo y las ejecuciones de los modelos.\n",
    "No se comentarán ya que toda la documentación del trabajo se presentará en un documento Word en el que irá incluido este notebook.\n",
    "\n",
    " "
   ]
  },
  {
   "cell_type": "code",
   "execution_count": 1,
   "metadata": {},
   "outputs": [],
   "source": [
    "import numpy as np\n",
    "import pandas as pd\n",
    "\n",
    "import matplotlib.pyplot as plt\n",
    "from matplotlib.colors import ListedColormap\n",
    "%matplotlib inline\n",
    "\n",
    "cm = plt.cm.RdBu\n",
    "cm_bright = ListedColormap(['#FF0000', '#0000FF'])\n",
    "\n",
    "import warnings\n",
    "warnings.filterwarnings('ignore')"
   ]
  },
  {
   "cell_type": "code",
   "execution_count": 2,
   "metadata": {},
   "outputs": [],
   "source": [
    "data_trn = pd.read_csv('./train_def.csv', sep = ';', decimal = '.')\n",
    "data_tst = pd.read_csv('./test_def.csv', sep = ';', decimal = '.')"
   ]
  },
  {
   "cell_type": "code",
   "execution_count": 3,
   "metadata": {},
   "outputs": [],
   "source": [
    "from sklearn.preprocessing import StandardScaler\n",
    "\n",
    "values_trn = data_trn.values\n",
    "values_tst = data_tst.values\n",
    "\n",
    "feature_names = data_trn.columns[0:-4]\n",
    "\n",
    "X_trn = values_trn[:, 0:-4]\n",
    "y_trn = values_trn[:, -4:-3]\n",
    "\n",
    "X_tst = values_tst[:, 0:-4]\n",
    "y_tst = values_tst[:, -4:-3]\n",
    "\n",
    "scaler = StandardScaler().fit(X_trn)\n",
    "\n",
    "X_trn_Sc = scaler.transform(X_trn)\n",
    "X_tst_Sc = scaler.transform(X_tst)"
   ]
  },
  {
   "cell_type": "code",
   "execution_count": 20,
   "metadata": {
    "scrolled": false
   },
   "outputs": [
    {
     "name": "stdout",
     "output_type": "stream",
     "text": [
      "\n",
      " max_depth 2 | n_estimators 500 | learning_rate 0.5\n",
      "+---------------------------------------------------+\n",
      "| MSE Train = 1.443364       Score Train R² = 0.672 |\n",
      "| MSE Test  = 1.449756       Score Test  R² = 0.673 |\n",
      "|\t  Error Medio Predicción: 55.16€\t    |\n",
      "+---------------------------------------------------+\n",
      "\n",
      " max_depth 2 | n_estimators 500 | learning_rate 0.1\n",
      "+---------------------------------------------------+\n",
      "| MSE Train = 1.033624       Score Train R² = 0.716 |\n",
      "| MSE Test  = 1.192520       Score Test  R² = 0.700 |\n",
      "|\t  Error Medio Predicción: 52.80€\t    |\n",
      "+---------------------------------------------------+\n",
      "\n",
      " max_depth 2 | n_estimators 1000 | learning_rate 0.5\n",
      "+---------------------------------------------------+\n",
      "| MSE Train = 1.443364       Score Train R² = 0.672 |\n",
      "| MSE Test  = 1.449756       Score Test  R² = 0.673 |\n",
      "|\t  Error Medio Predicción: 55.16€\t    |\n",
      "+---------------------------------------------------+\n",
      "\n",
      " max_depth 2 | n_estimators 1000 | learning_rate 0.1\n",
      "+---------------------------------------------------+\n",
      "| MSE Train = 0.982176       Score Train R² = 0.727 |\n",
      "| MSE Test  = 1.161626       Score Test  R² = 0.701 |\n",
      "|\t  Error Medio Predicción: 53.21€\t    |\n",
      "+---------------------------------------------------+\n",
      "\n",
      " max_depth 2 | n_estimators 1500 | learning_rate 0.5\n",
      "+---------------------------------------------------+\n",
      "| MSE Train = 1.443364       Score Train R² = 0.672 |\n",
      "| MSE Test  = 1.449756       Score Test  R² = 0.673 |\n",
      "|\t  Error Medio Predicción: 55.16€\t    |\n",
      "+---------------------------------------------------+\n",
      "\n",
      " max_depth 2 | n_estimators 1500 | learning_rate 0.1\n",
      "+---------------------------------------------------+\n",
      "| MSE Train = 0.962146       Score Train R² = 0.736 |\n",
      "| MSE Test  = 1.145366       Score Test  R² = 0.700 |\n",
      "|\t  Error Medio Predicción: 53.59€\t    |\n",
      "+---------------------------------------------------+\n",
      "\n",
      " max_depth 3 | n_estimators 500 | learning_rate 0.5\n",
      "+---------------------------------------------------+\n",
      "| MSE Train = 1.629741       Score Train R² = 0.682 |\n",
      "| MSE Test  = 1.758699       Score Test  R² = 0.679 |\n",
      "|\t  Error Medio Predicción: 57.46€\t    |\n",
      "+---------------------------------------------------+\n",
      "\n",
      " max_depth 3 | n_estimators 500 | learning_rate 0.1\n",
      "+---------------------------------------------------+\n",
      "| MSE Train = 0.598792       Score Train R² = 0.778 |\n",
      "| MSE Test  = 1.122276       Score Test  R² = 0.707 |\n",
      "|\t  Error Medio Predicción: 55.20€\t    |\n",
      "+---------------------------------------------------+\n",
      "\n",
      " max_depth 3 | n_estimators 1000 | learning_rate 0.5\n",
      "+---------------------------------------------------+\n",
      "| MSE Train = 1.629741       Score Train R² = 0.682 |\n",
      "| MSE Test  = 1.758699       Score Test  R² = 0.679 |\n",
      "|\t  Error Medio Predicción: 57.46€\t    |\n",
      "+---------------------------------------------------+\n",
      "\n",
      " max_depth 3 | n_estimators 1000 | learning_rate 0.1\n",
      "+---------------------------------------------------+\n",
      "| MSE Train = 0.491666       Score Train R² = 0.802 |\n",
      "| MSE Test  = 1.128130       Score Test  R² = 0.707 |\n",
      "|\t  Error Medio Predicción: 56.46€\t    |\n",
      "+---------------------------------------------------+\n",
      "\n",
      " max_depth 3 | n_estimators 1500 | learning_rate 0.5\n",
      "+---------------------------------------------------+\n",
      "| MSE Train = 1.629741       Score Train R² = 0.682 |\n",
      "| MSE Test  = 1.758699       Score Test  R² = 0.679 |\n",
      "|\t  Error Medio Predicción: 57.46€\t    |\n",
      "+---------------------------------------------------+\n",
      "\n",
      " max_depth 3 | n_estimators 1500 | learning_rate 0.1\n",
      "+---------------------------------------------------+\n",
      "| MSE Train = 0.417405       Score Train R² = 0.815 |\n",
      "| MSE Test  = 1.119675       Score Test  R² = 0.704 |\n",
      "|\t  Error Medio Predicción: 56.53€\t    |\n",
      "+---------------------------------------------------+\n",
      "\n",
      " max_depth 4 | n_estimators 500 | learning_rate 0.5\n",
      "+---------------------------------------------------+\n",
      "| MSE Train = 1.202393       Score Train R² = 0.713 |\n",
      "| MSE Test  = 1.293008       Score Test  R² = 0.689 |\n",
      "|\t  Error Medio Predicción: 57.48€\t    |\n",
      "+---------------------------------------------------+\n",
      "\n",
      " max_depth 4 | n_estimators 500 | learning_rate 0.1\n",
      "+---------------------------------------------------+\n",
      "| MSE Train = 0.289598       Score Train R² = 0.836 |\n",
      "| MSE Test  = 1.148618       Score Test  R² = 0.706 |\n",
      "|\t  Error Medio Predicción: 56.00€\t    |\n",
      "+---------------------------------------------------+\n",
      "\n",
      " max_depth 4 | n_estimators 1000 | learning_rate 0.5\n",
      "+---------------------------------------------------+\n",
      "| MSE Train = 1.189920       Score Train R² = 0.714 |\n",
      "| MSE Test  = 1.309268       Score Test  R² = 0.689 |\n",
      "|\t  Error Medio Predicción: 57.63€\t    |\n",
      "+---------------------------------------------------+\n",
      "\n",
      " max_depth 4 | n_estimators 1000 | learning_rate 0.1\n",
      "+---------------------------------------------------+\n",
      "| MSE Train = 0.191222       Score Train R² = 0.881 |\n",
      "| MSE Test  = 1.145041       Score Test  R² = 0.710 |\n",
      "|\t  Error Medio Predicción: 56.55€\t    |\n",
      "+---------------------------------------------------+\n",
      "\n",
      " max_depth 4 | n_estimators 1500 | learning_rate 0.5\n",
      "+---------------------------------------------------+\n",
      "| MSE Train = 1.182653       Score Train R² = 0.714 |\n",
      "| MSE Test  = 1.307642       Score Test  R² = 0.690 |\n",
      "|\t  Error Medio Predicción: 57.75€\t    |\n",
      "+---------------------------------------------------+\n",
      "\n",
      " max_depth 4 | n_estimators 1500 | learning_rate 0.1\n",
      "+---------------------------------------------------+\n",
      "| MSE Train = 0.138255       Score Train R² = 0.908 |\n",
      "| MSE Test  = 1.181463       Score Test  R² = 0.707 |\n",
      "|\t  Error Medio Predicción: 56.72€\t    |\n",
      "+---------------------------------------------------+\n"
     ]
    }
   ],
   "source": [
    "from sklearn.ensemble import GradientBoostingClassifier\n",
    "from sklearn.metrics import mean_squared_error\n",
    "\n",
    "max_depth_GBC = [2, 3, 4]\n",
    "n_estimators_GBC = [500, 1000, 1500]\n",
    "learning_rate_GBC = [0.5, 0.1]\n",
    "\n",
    "for i in max_depth_GBC:\n",
    "    for j in n_estimators_GBC:\n",
    "        for k in learning_rate_GBC:\n",
    "            gbC = GradientBoostingClassifier(random_state = 0, max_depth = i, n_estimators = j, learning_rate = k)\n",
    "            gbC.fit(X_trn_Sc, y_trn)\n",
    "\n",
    "            y_trn_gbC = gbC.predict(X_trn_Sc)\n",
    "            y_tst_gbC = gbC.predict(X_tst_Sc)\n",
    "\n",
    "            med_ep = np.mean(np.absolute(y_tst_gbC - y_tst))*50\n",
    "\n",
    "            print(f\"\\n max_depth {i} | n_estimators {j} | learning_rate {k}\\n+\" + '-'*51 + \"+\")\n",
    "            print(f\"| MSE Train = {mean_squared_error(y_trn, y_trn_gbC):.6f}       \" +\n",
    "                  f\"Score Train R\\u00b2 = {gbC.score(X_trn_Sc, y_trn):.3f} |\")\n",
    "            print(f\"| MSE Test  = {mean_squared_error(y_tst, y_tst_gbC):.6f}       \" +\n",
    "                  f\"Score Test  R\\u00b2 = {gbC.score(X_tst_Sc, y_tst):.3f} |\")\n",
    "            print(f\"|\\t  Error Medio Predicción: {med_ep:.2f}€\\t    |\\n+\" + '-'*51 + \"+\")"
   ]
  },
  {
   "cell_type": "code",
   "execution_count": 9,
   "metadata": {},
   "outputs": [
    {
     "name": "stdout",
     "output_type": "stream",
     "text": [
      "\n",
      " max_depth 3 | n_estimators 500 | learning_rate 0.1\n",
      "+---------------------------------------------------+\n",
      "| MSE Train = 0.632344       Score Train R² = 0.767 |\n",
      "| MSE Test  = 1.052033       Score Test  R² = 0.705 |\n",
      "|\t  Error Medio Predicción: 54.58€\t    |\n",
      "+---------------------------------------------------+\n"
     ]
    }
   ],
   "source": [
    "from sklearn.ensemble import GradientBoostingClassifier\n",
    "from sklearn.metrics import mean_squared_error\n",
    "\n",
    "gbC_nn = GradientBoostingClassifier(random_state = 0, max_depth = 3,\n",
    "                                    n_estimators = 500, learning_rate = 0.1)\n",
    "gbC_nn.fit(X_trn, y_trn)\n",
    "\n",
    "y_trn_gbC_nn = gbC_nn.predict(X_trn)\n",
    "y_tst_gbC_nn = gbC_nn.predict(X_tst)\n",
    "\n",
    "med_ep = np.mean(np.absolute(y_tst_gbC_nn - y_tst))*50\n",
    "\n",
    "print(f\"\\n max_depth 3 | n_estimators 500 | learning_rate 0.1\\n+\" + '-'*51 + \"+\")\n",
    "print(f\"| MSE Train = {mean_squared_error(y_trn, y_trn_gbC_nn):.6f}       \" +\n",
    "      f\"Score Train R\\u00b2 = {gbC_nn.score(X_trn, y_trn):.3f} |\")\n",
    "print(f\"| MSE Test  = {mean_squared_error(y_tst, y_tst_gbC_nn):.6f}       \" +\n",
    "      f\"Score Test  R\\u00b2 = {gbC_nn.score(X_tst, y_tst):.3f} |\")\n",
    "print(f\"|\\t  Error Medio Predicción: {med_ep:.2f}€\\t    |\\n+\" + '-'*51 + \"+\")"
   ]
  },
  {
   "cell_type": "code",
   "execution_count": 39,
   "metadata": {},
   "outputs": [
    {
     "data": {
      "image/png": "[encoded data removed]",
      "text/plain": [
       "<Figure size 720x432 with 2 Axes>"
      ]
     },
     "metadata": {
      "needs_background": "light"
     },
     "output_type": "display_data"
    }
   ],
   "source": [
    "from sklearn.svm import SVC\n",
    "from sklearn.metrics import accuracy_score\n",
    "\n",
    "C_SVM = np.logspace(-3, 3, 10)\n",
    "gamma_SVM = np.logspace(-5, 1, 10)\n",
    "\n",
    "parameters_SVM = {'C': C_SVM, 'gamma': gamma_SVM}\n",
    "\n",
    "gs_svc = GridSearchCV(SVC(kernel = 'rbf', random_state = 0), scoring = 'accuracy',\n",
    "                      param_grid = parameters_SVM, cv = 5)\n",
    "gs_svc.fit(X_trn_Sc, y_trn)\n",
    "\n",
    "scores = gs_svc.cv_results_['mean_test_score'].reshape(len(C_SVM), len(gamma_SVM))\n",
    "\n",
    "plt.figure(figsize = (10, 6))\n",
    "plt.imshow(scores, interpolation = 'nearest', vmin = 0.6, vmax = 0.7)\n",
    "plt.xlabel(f\"Best gamma: {gs_svc.best_params_['gamma']}\", fontsize = 14)\n",
    "plt.ylabel(f\"Best C: {gs_svc.best_params_['C']}\", fontsize = 14)\n",
    "plt.colorbar()\n",
    "plt.xticks(np.arange(len(gamma_SVM)), np.log10(gamma_SVM), rotation = 90)\n",
    "plt.yticks(np.arange(len(C_SVM)), np.log10(C_SVM))\n",
    "plt.title(f\"Best mean cv-score: {gs_svc.best_score_:.3f}\", fontsize = 14)\n",
    "plt.show()"
   ]
  },
  {
   "cell_type": "code",
   "execution_count": 49,
   "metadata": {},
   "outputs": [
    {
     "name": "stdout",
     "output_type": "stream",
     "text": [
      "\n",
      "\t    gamma: 0.1  |  C: 10.0\n",
      "-------------------------------------------------\n",
      " MSE Train = 0.518529\tScore Train R² = 0.797\n",
      " MSE Test  = 1.102114\tScore Test  R² = 0.696\n",
      "\t  Error Medio Predicción: 53.98€\n",
      "\n",
      "\t    gamma: 0.1  |  C: 2.1544\n",
      "-------------------------------------------------\n",
      " MSE Train = 0.768791\tScore Train R² = 0.750\n",
      " MSE Test  = 1.102114\tScore Test  R² = 0.697\n",
      "\t  Error Medio Predicción: 52.43€\n",
      "\n",
      "\t    gamma: 0.4642  |  C: 10.0\n",
      "-------------------------------------------------\n",
      " MSE Train = 0.196609\tScore Train R² = 0.925\n",
      " MSE Test  = 1.292683\tScore Test  R² = 0.671\n",
      "\t  Error Medio Predicción: 53.84€\n",
      "\n",
      "\t    gamma: 0.4642  |  C: 2.1544\n",
      "-------------------------------------------------\n",
      " MSE Train = 0.368741\tScore Train R² = 0.868\n",
      " MSE Test  = 1.272520\tScore Test  R² = 0.695\n",
      "\t  Error Medio Predicción: 51.87€\n"
     ]
    }
   ],
   "source": [
    "C_svmC = [10., 2.1544]\n",
    "gamma_svmC = [0.1, 0.4642]\n",
    "\n",
    "for i in gamma_svmC:\n",
    "    for j in C_svmC:\n",
    "        svmC = SVC(kernel = 'rbf', gamma = i, C = j,\n",
    "                   probability = True, random_state = 0)\n",
    "        svmC.fit(X_trn_Sc, y_trn)\n",
    "\n",
    "        y_trn_svmC = svmC.predict(X_trn_Sc)\n",
    "        y_tst_svmC = svmC.predict(X_tst_Sc)\n",
    "\n",
    "        med_ep = np.mean(np.absolute(y_tst_svmC - y_tst))*50\n",
    "\n",
    "        print(f\"\\n\\t    gamma: {i}  |  \" + \n",
    "              f\"C: {j}\\n\"+ '-'*49)\n",
    "        print(f\" MSE Train = {mean_squared_error(y_trn, y_trn_svmC):.6f}\\t\" +\n",
    "              f\"Score Train R\\u00b2 = {svmC.score(X_trn_Sc, y_trn):.3f}\")\n",
    "        print(f\" MSE Test  = {mean_squared_error(y_tst, y_tst_svmC):.6f}\\t\" +\n",
    "              f\"Score Test  R\\u00b2 = {svmC.score(X_tst_Sc, y_tst):.3f}\")\n",
    "        print(f\"\\t  Error Medio Predicción: {med_ep:.2f}€\")"
   ]
  },
  {
   "cell_type": "code",
   "execution_count": 51,
   "metadata": {},
   "outputs": [
    {
     "name": "stdout",
     "output_type": "stream",
     "text": [
      "Collecting xgboost\n",
      "  Downloading https://files.pythonhosted.org/packages/b1/11/cba4be5a737c6431323b89b5ade818b3bbe1df6e8261c6c70221a767c5d9/xgboost-1.0.2-py3-none-win_amd64.whl (24.6MB)\n",
      "Requirement already satisfied: scipy in c:\\program files\\python37\\lib\\site-packages (from xgboost) (1.3.3)\n",
      "Requirement already satisfied: numpy in c:\\program files\\python37\\lib\\site-packages (from xgboost) (1.17.4)\n",
      "Installing collected packages: xgboost\n",
      "Successfully installed xgboost-1.0.2\n"
     ]
    },
    {
     "name": "stderr",
     "output_type": "stream",
     "text": [
      "WARNING: You are using pip version 19.3.1; however, version 20.0.2 is available.\n",
      "You should consider upgrading via the 'python -m pip install --upgrade pip' command.\n"
     ]
    }
   ],
   "source": [
    "!pip install xgboost"
   ]
  },
  {
   "cell_type": "code",
   "execution_count": 53,
   "metadata": {
    "scrolled": false
   },
   "outputs": [
    {
     "name": "stdout",
     "output_type": "stream",
     "text": [
      "\n",
      " max_depth 3 | n_estimators 200 | learning_rate 0.1\n",
      "+---------------------------------------------------+\n",
      "| MSE Train = 0.849922       Score Train R² = 0.722 |\n",
      "| MSE Test  = 1.077724       Score Test  R² = 0.701 |\n",
      "|\t  Error Medio Predicción: 52.44€\t    |\n",
      "+---------------------------------------------------+\n",
      "\n",
      " max_depth 3 | n_estimators 300 | learning_rate 0.1\n",
      "+---------------------------------------------------+\n",
      "| MSE Train = 0.757837       Score Train R² = 0.731 |\n",
      "| MSE Test  = 1.087805       Score Test  R² = 0.701 |\n",
      "|\t  Error Medio Predicción: 52.77€\t    |\n",
      "+---------------------------------------------------+\n",
      "\n",
      " max_depth 3 | n_estimators 400 | learning_rate 0.1\n",
      "+---------------------------------------------------+\n",
      "| MSE Train = 0.704834       Score Train R² = 0.741 |\n",
      "| MSE Test  = 1.066667       Score Test  R² = 0.704 |\n",
      "|\t  Error Medio Predicción: 52.92€\t    |\n",
      "+---------------------------------------------------+\n",
      "\n",
      " max_depth 3 | n_estimators 500 | learning_rate 0.1\n",
      "+---------------------------------------------------+\n",
      "| MSE Train = 0.666474       Score Train R² = 0.750 |\n",
      "| MSE Test  = 1.074146       Score Test  R² = 0.705 |\n",
      "|\t  Error Medio Predicción: 53.35€\t    |\n",
      "+---------------------------------------------------+\n",
      "\n",
      " max_depth 3 | n_estimators 600 | learning_rate 0.1\n",
      "+---------------------------------------------------+\n",
      "| MSE Train = 0.615351       Score Train R² = 0.757 |\n",
      "| MSE Test  = 1.055935       Score Test  R² = 0.704 |\n",
      "|\t  Error Medio Predicción: 53.62€\t    |\n",
      "+---------------------------------------------------+\n",
      "\n",
      " max_depth 3 | n_estimators 700 | learning_rate 0.1\n",
      "+---------------------------------------------------+\n",
      "| MSE Train = 0.581981       Score Train R² = 0.763 |\n",
      "| MSE Test  = 1.039350       Score Test  R² = 0.705 |\n",
      "|\t  Error Medio Predicción: 53.74€\t    |\n",
      "+---------------------------------------------------+\n",
      "\n",
      " max_depth 3 | n_estimators 800 | learning_rate 0.1\n",
      "+---------------------------------------------------+\n",
      "| MSE Train = 0.539969       Score Train R² = 0.768 |\n",
      "| MSE Test  = 1.024390       Score Test  R² = 0.707 |\n",
      "|\t  Error Medio Predicción: 54.15€\t    |\n",
      "+---------------------------------------------------+\n",
      "\n",
      " max_depth 3 | n_estimators 900 | learning_rate 0.1\n",
      "+---------------------------------------------------+\n",
      "| MSE Train = 0.513106       Score Train R² = 0.772 |\n",
      "| MSE Test  = 1.033171       Score Test  R² = 0.710 |\n",
      "|\t  Error Medio Predicción: 54.08€\t    |\n",
      "+---------------------------------------------------+\n",
      "\n",
      " max_depth 3 | n_estimators 1000 | learning_rate 0.1\n",
      "+---------------------------------------------------+\n",
      "| MSE Train = 0.487039       Score Train R² = 0.778 |\n",
      "| MSE Test  = 1.030569       Score Test  R² = 0.711 |\n",
      "|\t  Error Medio Predicción: 54.23€\t    |\n",
      "+---------------------------------------------------+\n",
      "\n",
      " max_depth 4 | n_estimators 200 | learning_rate 0.1\n",
      "+---------------------------------------------------+\n",
      "| MSE Train = 0.684768       Score Train R² = 0.749 |\n",
      "| MSE Test  = 1.071220       Score Test  R² = 0.710 |\n",
      "|\t  Error Medio Predicción: 53.34€\t    |\n",
      "+---------------------------------------------------+\n",
      "\n",
      " max_depth 4 | n_estimators 300 | learning_rate 0.1\n",
      "+---------------------------------------------------+\n",
      "| MSE Train = 0.598937       Score Train R² = 0.765 |\n",
      "| MSE Test  = 1.020488       Score Test  R² = 0.712 |\n",
      "|\t  Error Medio Predicción: 53.93€\t    |\n",
      "+---------------------------------------------------+\n",
      "\n",
      " max_depth 4 | n_estimators 400 | learning_rate 0.1\n",
      "+---------------------------------------------------+\n",
      "| MSE Train = 0.524748       Score Train R² = 0.778 |\n",
      "| MSE Test  = 1.004878       Score Test  R² = 0.713 |\n",
      "|\t  Error Medio Predicción: 54.01€\t    |\n",
      "+---------------------------------------------------+\n",
      "\n",
      " max_depth 4 | n_estimators 500 | learning_rate 0.1\n",
      "+---------------------------------------------------+\n",
      "| MSE Train = 0.455765       Score Train R² = 0.790 |\n",
      "| MSE Test  = 0.984390       Score Test  R² = 0.714 |\n",
      "|\t  Error Medio Predicción: 54.09€\t    |\n",
      "+---------------------------------------------------+\n",
      "\n",
      " max_depth 4 | n_estimators 600 | learning_rate 0.1\n",
      "+---------------------------------------------------+\n",
      "| MSE Train = 0.408945       Score Train R² = 0.799 |\n",
      "| MSE Test  = 0.980813       Score Test  R² = 0.716 |\n",
      "|\t  Error Medio Predicción: 54.17€\t    |\n",
      "+---------------------------------------------------+\n",
      "\n",
      " max_depth 4 | n_estimators 700 | learning_rate 0.1\n",
      "+---------------------------------------------------+\n",
      "| MSE Train = 0.371018       Score Train R² = 0.807 |\n",
      "| MSE Test  = 0.989593       Score Test  R² = 0.715 |\n",
      "|\t  Error Medio Predicción: 54.17€\t    |\n",
      "+---------------------------------------------------+\n",
      "\n",
      " max_depth 4 | n_estimators 800 | learning_rate 0.1\n",
      "+---------------------------------------------------+\n",
      "| MSE Train = 0.348350       Score Train R² = 0.814 |\n",
      "| MSE Test  = 1.009106       Score Test  R² = 0.715 |\n",
      "|\t  Error Medio Predicción: 54.59€\t    |\n",
      "+---------------------------------------------------+\n",
      "\n",
      " max_depth 4 | n_estimators 900 | learning_rate 0.1\n",
      "+---------------------------------------------------+\n",
      "| MSE Train = 0.320872       Score Train R² = 0.820 |\n",
      "| MSE Test  = 0.990244       Score Test  R² = 0.716 |\n",
      "|\t  Error Medio Predicción: 54.36€\t    |\n",
      "+---------------------------------------------------+\n",
      "\n",
      " max_depth 4 | n_estimators 1000 | learning_rate 0.1\n",
      "+---------------------------------------------------+\n",
      "| MSE Train = 0.303807       Score Train R² = 0.826 |\n",
      "| MSE Test  = 0.997724       Score Test  R² = 0.714 |\n",
      "|\t  Error Medio Predicción: 54.44€\t    |\n",
      "+---------------------------------------------------+\n"
     ]
    }
   ],
   "source": [
    "import xgboost as xgb\n",
    "\n",
    "max_depth_XGBC = [3, 4]\n",
    "n_estimators_XGBC = range(200, 1100, 100)\n",
    "\n",
    "for i in max_depth_XGBC:\n",
    "    for j in n_estimators_XGBC:\n",
    "        xgbC = xgb.XGBClassifier(random_state = 0, max_depth = i, n_estimators = j, learning_rate = 0.1)\n",
    "        xgbC.fit(X_trn_Sc, y_trn)\n",
    "        \n",
    "        y_trn_xgbC = xgbC.predict(X_trn_Sc)\n",
    "        y_tst_xgbC = xgbC.predict(X_tst_Sc)\n",
    "\n",
    "        med_ep = np.mean(np.absolute(y_tst_xgbC - y_tst))*50\n",
    "\n",
    "        print(f\"\\n max_depth {i} | n_estimators {j} | learning_rate 0.1\\n+\" + '-'*51 + \"+\")\n",
    "        print(f\"| MSE Train = {mean_squared_error(y_trn, y_trn_xgbC):.6f}       \" +\n",
    "              f\"Score Train R\\u00b2 = {xgbC.score(X_trn_Sc, y_trn):.3f} |\")\n",
    "        print(f\"| MSE Test  = {mean_squared_error(y_tst, y_tst_xgbC):.6f}       \" +\n",
    "              f\"Score Test  R\\u00b2 = {xgbC.score(X_tst_Sc, y_tst):.3f} |\")\n",
    "        print(f\"|\\t  Error Medio Predicción: {med_ep:.2f}€\\t    |\\n+\" + '-'*51 + \"+\")"
   ]
  },
  {
   "cell_type": "code",
   "execution_count": 8,
   "metadata": {},
   "outputs": [
    {
     "name": "stdout",
     "output_type": "stream",
     "text": [
      "\n",
      " max_depth 4 | n_estimators 600 | learning_rate 0.1\n",
      "+---------------------------------------------------+\n",
      "| MSE Train = 0.408945       Score Train R² = 0.799 |\n",
      "| MSE Test  = 0.981789       Score Test  R² = 0.716 |\n",
      "|\t  Error Medio Predicción: 54.18€\t    |\n",
      "+---------------------------------------------------+\n"
     ]
    }
   ],
   "source": [
    "xgbC_nn = xgb.XGBClassifier(random_state = 0, max_depth = 4,\n",
    "                            n_estimators = 600, learning_rate = 0.1)\n",
    "xgbC_nn.fit(X_trn, y_trn)\n",
    "\n",
    "y_trn_xgbC_nn = xgbC_nn.predict(X_trn)\n",
    "y_tst_xgbC_nn = xgbC_nn.predict(X_tst)\n",
    "\n",
    "med_ep = np.mean(np.absolute(y_tst_xgbC_nn - y_tst))*50\n",
    "\n",
    "print(f\"\\n max_depth 4 | n_estimators 600 | learning_rate 0.1\\n+\" + '-'*51 + \"+\")\n",
    "print(f\"| MSE Train = {mean_squared_error(y_trn, y_trn_xgbC_nn):.6f}       \" +\n",
    "      f\"Score Train R\\u00b2 = {xgbC_nn.score(X_trn, y_trn):.3f} |\")\n",
    "print(f\"| MSE Test  = {mean_squared_error(y_tst, y_tst_xgbC_nn):.6f}       \" +\n",
    "      f\"Score Test  R\\u00b2 = {xgbC_nn.score(X_tst, y_tst):.3f} |\")\n",
    "print(f\"|\\t  Error Medio Predicción: {med_ep:.2f}€\\t    |\\n+\" + '-'*51 + \"+\")"
   ]
  },
  {
   "cell_type": "code",
   "execution_count": 13,
   "metadata": {},
   "outputs": [],
   "source": [
    "def plot_importance_coefs(importances, data, feature_names, algorithm):\n",
    "    importances /= np.max(importances)\n",
    "    indices = np.argsort(importances)[::-1]\n",
    "    \n",
    "    my_colors = [(x/(len(importances)), x/(2*len(importances)),\n",
    "                  .4) for x in range(len(importances))]\n",
    "    \n",
    "    plt.figure(figsize = (8, 5))\n",
    "    \n",
    "    plt.bar(range(data.shape[1]), importances[indices],\n",
    "            label = algorithm, color = my_colors)\n",
    "    plt.xticks(range(data.shape[1]), feature_names[indices],\n",
    "               rotation = 90, fontsize = 14)\n",
    "    plt.legend(loc = 1, fontsize = 16)\n",
    "    \n",
    "    plt.show()"
   ]
  },
  {
   "cell_type": "code",
   "execution_count": 7,
   "metadata": {},
   "outputs": [
    {
     "data": {
      "image/png": "[encoded data removed]",
      "text/plain": [
       "<Figure size 576x360 with 1 Axes>"
      ]
     },
     "metadata": {
      "needs_background": "light"
     },
     "output_type": "display_data"
    }
   ],
   "source": [
    "plot_importance_coefs(xgbC.feature_importances_, X_trn_Sc, feature_names,\n",
    "                      'XGBClassifier')"
   ]
  },
  {
   "cell_type": "code",
   "execution_count": 16,
   "metadata": {},
   "outputs": [
    {
     "name": "stdout",
     "output_type": "stream",
     "text": [
      "La media de error prediciendo del Modelo XGBoostClassifier es 1.08 clases\n"
     ]
    }
   ],
   "source": [
    "y_predict = xgbC_nn.predict(X_tst)\n",
    "\n",
    "error_prediccion_xgbC_nn = np.absolute(y_predict - y_tst)\n",
    "med_ep = np.mean(error_prediccion_xgbC_nn)\n",
    "\n",
    "print(f\"La media de error prediciendo del Modelo XGBoostClassifier es {med_ep:.2f} clases\")"
   ]
  },
  {
   "cell_type": "code",
   "execution_count": 9,
   "metadata": {},
   "outputs": [
    {
     "data": {
      "text/plain": [
       "['./modelo_XGBC.pkl']"
      ]
     },
     "execution_count": 9,
     "metadata": {},
     "output_type": "execute_result"
    }
   ],
   "source": [
    "from sklearn.externals import joblib\n",
    "\n",
    "joblib.dump(xgbC_nn, './modelo_XGBC.pkl')"
   ]
  },
  {
   "cell_type": "code",
   "execution_count": 17,
   "metadata": {},
   "outputs": [
    {
     "name": "stdout",
     "output_type": "stream",
     "text": [
      "La clase del registro 0 de test es [1.] y la predicción del modelo es [1.]\n"
     ]
    }
   ],
   "source": [
    "from sklearn.externals import joblib\n",
    "\n",
    "xgbC_portable = joblib.load('./modelo_XGBC.pkl')\n",
    "\n",
    "y_predict = xgbC_portable.predict(X_tst[[0]])\n",
    "\n",
    "print(f\"La clase del registro 0 de test es {y_tst[0]} y la predicción del modelo es {y_predict}\")"
   ]
  },
  {
   "cell_type": "code",
   "execution_count": null,
   "metadata": {},
   "outputs": [],
   "source": []
  }
 ],
 "metadata": {
  "kernelspec": {
   "display_name": "Python 3",
   "language": "python",
   "name": "python3"
  },
  "language_info": {
   "codemirror_mode": {
    "name": "ipython",
    "version": 3
   },
   "file_extension": ".py",
   "mimetype": "text/x-python",
   "name": "python",
   "nbconvert_exporter": "python",
   "pygments_lexer": "ipython3",
   "version": "3.7.3"
  }
 },
 "nbformat": 4,
 "nbformat_minor": 2
}
